{
 "cells": [
  {
   "cell_type": "markdown",
   "id": "33f35d8f-30a4-4015-983f-c0fc7d793e8d",
   "metadata": {},
   "source": [
    "### Import in the necessary libraries"
   ]
  },
  {
   "cell_type": "code",
   "execution_count": null,
   "id": "ad61477a-89af-4532-928b-8be33d3efb7d",
   "metadata": {},
   "outputs": [],
   "source": [
    "import os\n",
    "import time\n",
    "from Arm_Lib import Arm_Device\n",
    "\n",
    "Arm = Arm_Device()\n",
    "time.sleep(.1)"
   ]
  },
  {
   "cell_type": "markdown",
   "id": "cc794f32-1381-4b63-9df1-9ab1f4f79c75",
   "metadata": {},
   "source": [
    "### Initialize the robot arm location"
   ]
  },
  {
   "cell_type": "code",
   "execution_count": null,
   "id": "7ef3294e-5758-4af2-9643-73f4656e831b",
   "metadata": {},
   "outputs": [],
   "source": [
    "Arm.Arm_serial_servo_write6(0, 90, 0, 180, 90, 90, 2000)"
   ]
  },
  {
   "cell_type": "markdown",
   "id": "2e5fb5ea-0458-4992-b94d-2b334714af94",
   "metadata": {},
   "source": [
    "### Choose and play the music"
   ]
  },
  {
   "cell_type": "code",
   "execution_count": null,
   "id": "92b02fb7-d1ef-4446-842f-14f0e5062537",
   "metadata": {},
   "outputs": [],
   "source": [
    "!ls /root/scripts/sensor/arm_sounds"
   ]
  },
  {
   "cell_type": "code",
   "execution_count": null,
   "id": "fbba093e-452f-4c28-9098-9c351dbc0be1",
   "metadata": {},
   "outputs": [],
   "source": [
    "os.system('rostopic pub -1 /play_specific std_msgs/String \"data: \\'/root/scripts/sensor/arm_sounds/music_1.mp3\\'\"')"
   ]
  },
  {
   "cell_type": "markdown",
   "id": "486b8775-7e9c-4df2-a359-9752ffbf9225",
   "metadata": {},
   "source": [
    "### Stop the music"
   ]
  },
  {
   "cell_type": "code",
   "execution_count": null,
   "id": "ab57b6f1-a95d-45df-a8f1-706c21857dcf",
   "metadata": {},
   "outputs": [],
   "source": [
    "os.system('rostopic pub -1 /play_specific std_msgs/String \"data: \\'stop\\'\"')"
   ]
  },
  {
   "cell_type": "markdown",
   "id": "fd7f7a6c-a6ac-4272-af36-87e9a8473f9e",
   "metadata": {},
   "source": [
    "### Choose your favorite music and make your robot dance to the music"
   ]
  },
  {
   "cell_type": "code",
   "execution_count": null,
   "id": "cd6bc4e0-7f3e-4fd4-a46c-76659632ccc2",
   "metadata": {},
   "outputs": [],
   "source": [
    "# coding session\n",
    "os.system()\n",
    "Arm.Arm_serial_servo_write6()"
   ]
  },
  {
   "cell_type": "markdown",
   "id": "d99f2837-5de2-452f-93e5-0e22521dc285",
   "metadata": {},
   "source": [
    "### Reset the robot arm control"
   ]
  },
  {
   "cell_type": "code",
   "execution_count": null,
   "id": "a3d13a5a-bda9-44a3-bf92-ebcbbd57680f",
   "metadata": {},
   "outputs": [],
   "source": [
    "del Arm"
   ]
  }
 ],
 "metadata": {
  "kernelspec": {
   "display_name": "Python 2",
   "language": "python",
   "name": "python2"
  },
  "language_info": {
   "codemirror_mode": {
    "name": "ipython",
    "version": 2
   },
   "file_extension": ".py",
   "mimetype": "text/x-python",
   "name": "python",
   "nbconvert_exporter": "python",
   "pygments_lexer": "ipython2",
   "version": "2.7.17"
  }
 },
 "nbformat": 4,
 "nbformat_minor": 5
}
