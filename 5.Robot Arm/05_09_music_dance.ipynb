{
 "cells": [
  {
   "cell_type": "code",
   "execution_count": null,
   "id": "3be400f0-41b2-4316-b5e8-cb84bfe07096",
   "metadata": {},
   "outputs": [],
   "source": [
    "import os\n",
    "import time\n",
    "from Arm_Lib import Arm_Device\n",
    "\n",
    "# 로봇팔 객체 등록\n",
    "Arm = Arm_Device()\n",
    "time.sleep(.1)"
   ]
  },
  {
   "cell_type": "code",
   "execution_count": null,
   "id": "5c96cc7c-f91d-4360-ba16-a895282a2f2e",
   "metadata": {},
   "outputs": [],
   "source": [
    "# 초기화\n",
    "Arm.Arm_serial_servo_write6(0, 90, 0, 180, 90, 90, 2000)"
   ]
  },
  {
   "cell_type": "code",
   "execution_count": null,
   "id": "f600af70-32f2-4531-8266-0e4c9341214d",
   "metadata": {},
   "outputs": [],
   "source": [
    "os.system('rostopic pub -1 /play_specific std_msgs/String \"data: \\'/root/scripts/sensor/arm_sounds/music_cari.mp3\\'\"')\n",
    "# 모터 범위 0~180\n",
    "Arm.Arm_serial_servo_write6(90, 90, 90, 90, 90, 90, 1600)\n",
    "time.sleep(1.61)\n",
    "Arm.Arm_serial_servo_write6(180, 90, 0, 180, 90, 90, 1600)\n",
    "time.sleep(1.61)\n",
    "Arm.Arm_serial_servo_write6(90, 90, 90, 90, 90, 90, 1600)\n",
    "time.sleep(1.61)\n",
    "Arm.Arm_serial_servo_write6(0, 90, 0, 180, 90, 90, 1600)\n",
    "time.sleep(1.61)\n",
    "Arm.Arm_serial_servo_write6(90, 90, 90, 90, 90, 90, 1600)\n",
    "time.sleep(1.61)\n",
    "Arm.Arm_serial_servo_write6(180, 90, 0, 180, 90, 90, 1600)\n",
    "time.sleep(1.61)\n",
    "Arm.Arm_serial_servo_write6(90, 90, 90, 90, 90, 90, 1600)\n",
    "time.sleep(1.61)\n",
    "Arm.Arm_serial_servo_write6(90, 90, 0, 90, 90, 90, 600)\n",
    "time.sleep(0.82)\n",
    "Arm.Arm_serial_servo_write6(90, 90, 0, 180, 90, 90, 600)\n",
    "time.sleep(0.82)\n",
    "Arm.Arm_serial_servo_write6(0, 90, 0, 180, 0, 180, 600)\n",
    "time.sleep(0.82)\n",
    "Arm.Arm_serial_servo_write6(90, 90, 0, 180, 90, 90, 600)\n",
    "time.sleep(0.82)\n",
    "Arm.Arm_serial_servo_write6(180, 90, 0, 180, 180, 180, 600)\n",
    "time.sleep(0.82)\n",
    "Arm.Arm_serial_servo_write6(90, 90, 0, 180, 90, 90, 600)\n",
    "time.sleep(0.82)\n",
    "Arm.Arm_serial_servo_write6(90, 90, 90, 90, 90, 90, 600)\n",
    "time.sleep(0.82)\n",
    "Arm.Arm_serial_servo_write6(90, 90, 0, 180, 90, 90, 600)\n",
    "time.sleep(0.82)\n",
    "Arm.Arm_serial_servo_write6(0, 90, 0, 180, 0, 180, 600)\n",
    "time.sleep(0.82)\n",
    "Arm.Arm_serial_servo_write6(90, 90, 0, 180, 90, 90, 600)\n",
    "time.sleep(0.82)\n",
    "Arm.Arm_serial_servo_write6(180, 90, 0, 180, 180, 180, 600)\n",
    "time.sleep(0.82)\n",
    "Arm.Arm_serial_servo_write6(90, 90, 0, 180, 90, 90, 600)\n",
    "time.sleep(0.82)\n",
    "Arm.Arm_serial_servo_write6(180, 90, 0, 180, 180, 180, 600)\n",
    "time.sleep(0.82)\n",
    "Arm.Arm_serial_servo_write6(90, 90, 0, 180, 90, 90, 600)\n",
    "time.sleep(0.82)\n",
    "Arm.Arm_serial_servo_write6(0, 90, 0, 180, 0, 180, 600)\n",
    "time.sleep(0.82)\n",
    "Arm.Arm_serial_servo_write6(90, 90, 0, 180, 90, 90, 600)\n",
    "time.sleep(0.82)\n",
    "Arm.Arm_serial_servo_write6(90, 90, 0, 90, 90, 90, 1500)\n",
    "time.sleep(1.5)\n",
    "Arm.Arm_serial_servo_write6(90, 90, 0, 90, 90, 180, 500)\n",
    "time.sleep(1)\n",
    "os.system('rostopic pub -1 /play_specific std_msgs/String \"data: \\'stop\\'\"')"
   ]
  }
 ],
 "metadata": {
  "kernelspec": {
   "display_name": "Python 2",
   "language": "python",
   "name": "python2"
  },
  "language_info": {
   "codemirror_mode": {
    "name": "ipython",
    "version": 2
   },
   "file_extension": ".py",
   "mimetype": "text/x-python",
   "name": "python",
   "nbconvert_exporter": "python",
   "pygments_lexer": "ipython2",
   "version": "2.7.17"
  }
 },
 "nbformat": 4,
 "nbformat_minor": 5
}
