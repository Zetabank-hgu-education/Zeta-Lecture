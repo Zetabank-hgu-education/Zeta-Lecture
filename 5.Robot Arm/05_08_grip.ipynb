{
 "cells": [
  {
   "cell_type": "code",
   "execution_count": null,
   "id": "b1ce3e3c-5619-45b7-99ca-547c06b916a5",
   "metadata": {},
   "outputs": [],
   "source": [
    "import time\n",
    "from Arm_Lib import Arm_Device\n",
    "\n",
    "# 로봇팔 객체 등록\n",
    "Arm = Arm_Device()\n",
    "time.sleep(.1)"
   ]
  },
  {
   "cell_type": "code",
   "execution_count": null,
   "id": "c30716b3-ea45-4a08-bf54-98eabd18020c",
   "metadata": {},
   "outputs": [],
   "source": [
    "jonits_home = [90, 90, 90, 90, 90, 90]\n",
    "\n",
    "# 첫 위치 벌림\n",
    "joints_0 = [39, 61, 23, 67, 89, 90]\n",
    "# 첫 위치 집기\n",
    "joints_1 = [39, 61, 23, 67, 89, 130]\n",
    "# 올라가있는 집기\n",
    "joints_2 = [39,107,37,67,89,130]\n",
    "# 회전 된 상태 집기\n",
    "joints_3 = [150,105,35,67,89,130]\n",
    "# 회전된 상태 내리기\n",
    "joints_4 = [149,63,30,66,89,130]\n",
    "# 회전된 상태 놓기\n",
    "joints_5 = [149,63,30,66,89,90]"
   ]
  },
  {
   "cell_type": "code",
   "execution_count": null,
   "id": "59a85938-8ebf-4db0-b231-0d3ee2945cb6",
   "metadata": {},
   "outputs": [],
   "source": [
    "Arm.Arm_serial_servo_write6_array(jonits_home, 2000)"
   ]
  },
  {
   "cell_type": "code",
   "execution_count": null,
   "id": "4496ed94-44e7-4a3c-8dc9-b854bacbb81f",
   "metadata": {},
   "outputs": [],
   "source": [
    "Arm.Arm_serial_servo_write6_array(joints_0, 2000)\n",
    "time.sleep(.1)"
   ]
  },
  {
   "cell_type": "code",
   "execution_count": null,
   "id": "621c04c9-6b86-4e90-9c14-a8b5531d80fc",
   "metadata": {},
   "outputs": [],
   "source": [
    "Arm.Arm_serial_servo_write6_array(joints_1, 500)\n",
    "time.sleep(.1)"
   ]
  },
  {
   "cell_type": "code",
   "execution_count": null,
   "id": "7a48ffea-c7e3-4d1e-b7a8-6d29c4c9fc84",
   "metadata": {},
   "outputs": [],
   "source": [
    "Arm.Arm_serial_servo_write6_array(joints_2, 2000)"
   ]
  },
  {
   "cell_type": "code",
   "execution_count": null,
   "id": "a95465f6-cfaa-497b-9dda-99435a55c723",
   "metadata": {},
   "outputs": [],
   "source": [
    "Arm.Arm_serial_servo_write6_array(joints_3, 1500)"
   ]
  },
  {
   "cell_type": "code",
   "execution_count": null,
   "id": "00478d94-a345-45ed-b84e-02e1f52000f0",
   "metadata": {},
   "outputs": [],
   "source": [
    "Arm.Arm_serial_servo_write6_array(joints_4, 1500)"
   ]
  },
  {
   "cell_type": "code",
   "execution_count": null,
   "id": "ee65d14f-ffb8-4302-a5de-69eb3b72c0c9",
   "metadata": {},
   "outputs": [],
   "source": [
    "Arm.Arm_serial_servo_write6_array(joints_5, 500)"
   ]
  },
  {
   "cell_type": "code",
   "execution_count": null,
   "id": "1e984acd-c6df-4fa3-857a-803ff3a32b7f",
   "metadata": {},
   "outputs": [],
   "source": [
    "del Arm   # Release DOFBOT object"
   ]
  }
 ],
 "metadata": {
  "kernelspec": {
   "display_name": "Python 2",
   "language": "python",
   "name": "python2"
  },
  "language_info": {
   "codemirror_mode": {
    "name": "ipython",
    "version": 2
   },
   "file_extension": ".py",
   "mimetype": "text/x-python",
   "name": "python",
   "nbconvert_exporter": "python",
   "pygments_lexer": "ipython2",
   "version": "2.7.17"
  }
 },
 "nbformat": 4,
 "nbformat_minor": 5
}
