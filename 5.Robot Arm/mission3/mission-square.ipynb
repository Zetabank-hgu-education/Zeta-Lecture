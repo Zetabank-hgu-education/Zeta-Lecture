{
 "cells": [
  {
   "cell_type": "markdown",
   "id": "ae181a5a-097e-46af-bace-33b0d1756830",
   "metadata": {},
   "source": [
    "### Import in the necessary libraries"
   ]
  },
  {
   "cell_type": "code",
   "execution_count": null,
   "id": "c793b531-4fd2-4cf8-a695-a2b81fb1e627",
   "metadata": {},
   "outputs": [],
   "source": [
    "import cv2 as cv\n",
    "import threading\n",
    "from time import sleep\n",
    "import math\n",
    "import ipywidgets as widgets\n",
    "from mission_lib_figure import Movement\n",
    "from event_name_figure import EventName\n",
    "from IPython.display import display"
   ]
  },
  {
   "cell_type": "markdown",
   "id": "39b9119f-26c8-46af-9740-2778660979ae",
   "metadata": {},
   "source": [
    "### Import and initialize the Arm Device"
   ]
  },
  {
   "cell_type": "code",
   "execution_count": null,
   "id": "11164a8e-17d4-43bc-a818-5200af9c308b",
   "metadata": {},
   "outputs": [],
   "source": [
    "import Arm_Lib\n",
    "Arm = Arm_Lib.Arm_Device()\n",
    "\n",
    "initial_position = [90, 90, 0, 90, 90, 30]\n",
    "Arm.Arm_serial_servo_write6_array(initial_position, 1000)"
   ]
  },
  {
   "cell_type": "code",
   "execution_count": null,
   "id": "164fc6ac-896c-4518-828b-68c6e5f16369",
   "metadata": {},
   "outputs": [],
   "source": [
    "e = EventName()\n",
    "movement = Movement(Arm)"
   ]
  },
  {
   "cell_type": "markdown",
   "id": "6e31fe38-a3e4-42d4-a816-0fbc88e40d09",
   "metadata": {},
   "source": [
    "### Create the widgets "
   ]
  },
  {
   "cell_type": "code",
   "execution_count": null,
   "id": "09666be7-17d1-4ede-a1d1-32924f6a0d3d",
   "metadata": {},
   "outputs": [],
   "source": [
    "button_layout = widgets.Layout(width='200px', height='60px', align_self='center')\n",
    "\n",
    "output = widgets.Output()\n",
    "\n",
    "# Widgets\n",
    "num_input = widgets.IntSlider(min=1, max=90, step=1, value=45, layout=button_layout) # Get the length of one side of the square.\n",
    "\n",
    "start_button = widgets.Button(description='Start', button_style='success', layout=button_layout)\n",
    "\n",
    "reset_button = widgets.Button(description='Reset', button_style='primary', layout=button_layout)\n",
    "\n",
    "exit_button = widgets.Button(description='Exit', button_style='danger', layout=button_layout)\n",
    "\n",
    "imgbox = widgets.Image(format='jpg', height=480, width=640, layout=widgets.Layout(align_self='auto'))\n",
    "\n",
    "img_box = widgets.VBox([imgbox], layout=widgets.Layout(align_self='auto'))\n",
    "\n",
    "Slider_box = widgets.VBox([start_button, reset_button, exit_button, num_input], layout=widgets.Layout(align_self='auto'))\n",
    "\n",
    "controls_box = widgets.HBox([img_box, Slider_box], layout=widgets.Layout(align_self='auto'))"
   ]
  },
  {
   "cell_type": "markdown",
   "id": "168cdd3f-105f-425c-be44-a93f99da873e",
   "metadata": {},
   "source": [
    "### Create the event handlers for the widgets"
   ]
  },
  {
   "cell_type": "code",
   "execution_count": null,
   "id": "6c9c0a61-8662-4d57-8674-52797069f9a3",
   "metadata": {},
   "outputs": [],
   "source": [
    "start_button.on_click(e.start_button_Callback)\n",
    "reset_button.on_click(e.reset_button_Callback)\n",
    "exit_button.on_click(e.exit_button_Callback)"
   ]
  },
  {
   "cell_type": "markdown",
   "id": "e0e2c3ce-ce09-4ef1-90b0-a9ff84344cc3",
   "metadata": {},
   "source": [
    "### Create the main function camera()"
   ]
  },
  {
   "cell_type": "code",
   "execution_count": null,
   "id": "71e3b2ae-15f7-4acb-8d65-b785ae0dc78c",
   "metadata": {},
   "outputs": [],
   "source": [
    "def camera():\n",
    "    \n",
    "    # Open camera\n",
    "    capture = cv.VideoCapture(1)\n",
    "    # Be executed in loop when the camera is opened normally \n",
    "    while True:\n",
    "        try:\n",
    "            _, img = capture.read()\n",
    "\n",
    "            img = cv.resize(img, (640, 480))\n",
    "\n",
    "            if e.action == 'Start':\n",
    "                movement.move_to_square_positions(num_input.value, 1000)\n",
    "                \n",
    "            if e.action == 'Reset':\n",
    "                movement.move_to_initial_position(1000)\n",
    "                e.reset()\n",
    "                \n",
    "            if e.action == 'Exit':\n",
    "                cv.destroyAllWindows()\n",
    "                capture.release()\n",
    "                break\n",
    "            imgbox.value = cv.imencode('.jpg', img)[1].tobytes()\n",
    "            sleep(0.25)\n",
    "        except KeyboardInterrupt:capture.release()"
   ]
  },
  {
   "cell_type": "code",
   "execution_count": null,
   "id": "9e31c45f-9607-4050-8698-5d9f6ff61b4d",
   "metadata": {},
   "outputs": [],
   "source": [
    "display(controls_box,output)\n",
    "threading.Thread(target=camera, ).start()"
   ]
  },
  {
   "cell_type": "code",
   "execution_count": null,
   "id": "5da8caaa-9008-4aeb-8274-82810b637fac",
   "metadata": {},
   "outputs": [],
   "source": [
    "del Arm"
   ]
  }
 ],
 "metadata": {
  "kernelspec": {
   "display_name": "Python 2",
   "language": "python",
   "name": "python2"
  },
  "language_info": {
   "codemirror_mode": {
    "name": "ipython",
    "version": 2
   },
   "file_extension": ".py",
   "mimetype": "text/x-python",
   "name": "python",
   "nbconvert_exporter": "python",
   "pygments_lexer": "ipython2",
   "version": "2.7.17"
  }
 },
 "nbformat": 4,
 "nbformat_minor": 5
}
