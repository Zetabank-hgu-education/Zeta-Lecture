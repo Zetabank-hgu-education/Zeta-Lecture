{
 "cells": [
  {
   "cell_type": "code",
   "execution_count": null,
   "metadata": {},
   "outputs": [],
   "source": [
    "import time\n",
    "from Arm_Lib import Arm_Device\n",
    "\n",
    "# 로봇팔 객체 등록\n",
    "Arm = Arm_Device()\n",
    "time.sleep(.1)"
   ]
  },
  {
   "cell_type": "code",
   "execution_count": null,
   "metadata": {},
   "outputs": [],
   "source": [
    "# 6개의 서보를 동시에 제어하면서, 각도를 점점 변화 시킨다.\n",
    "def ctrl_all_servo(angle, s_time = 500):\n",
    "    Arm.Arm_serial_servo_write6(angle, 180-angle, angle, angle, angle, angle, s_time)\n",
    "    time.sleep(0.1)\n",
    "\n",
    "\n",
    "def main():\n",
    "    dir_state = 1\n",
    "    angle = 90\n",
    "\n",
    "    Arm.Arm_serial_servo_write6(90, 90, 90, 90, 90, 90, 500)\n",
    "    time.sleep(1)\n",
    "\n",
    "    \n",
    "    while True:\n",
    "        if dir_state == 1:\n",
    "            angle += 1\n",
    "            if angle >= 180:\n",
    "                dir_state = 0\n",
    "        else:\n",
    "            angle -= 1\n",
    "            if angle <= 0:\n",
    "                dir_state = 1\n",
    "        \n",
    "        ctrl_all_servo(angle, 700)\n",
    "        time.sleep(10/1000)\n",
    "#         print(angle)\n",
    "\n",
    "    \n",
    "try :\n",
    "    main()\n",
    "except KeyboardInterrupt:\n",
    "    print(\" Program closed! \")\n",
    "    pass"
   ]
  },
  {
   "cell_type": "code",
   "execution_count": null,
   "metadata": {},
   "outputs": [],
   "source": [
    "Arm.Arm_serial_servo_write6(90, 90, 90, 90, 90, 90, 500)"
   ]
  },
  {
   "cell_type": "code",
   "execution_count": null,
   "metadata": {},
   "outputs": [],
   "source": [
    "del Arm  # 로봇팔 객체를 제거"
   ]
  }
 ],
 "metadata": {
  "kernelspec": {
   "display_name": "Python 2",
   "language": "python",
   "name": "python2"
  },
  "language_info": {
   "codemirror_mode": {
    "name": "ipython",
    "version": 2
   },
   "file_extension": ".py",
   "mimetype": "text/x-python",
   "name": "python",
   "nbconvert_exporter": "python",
   "pygments_lexer": "ipython2",
   "version": "2.7.17"
  }
 },
 "nbformat": 4,
 "nbformat_minor": 4
}
