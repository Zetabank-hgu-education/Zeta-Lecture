{
 "cells": [
  {
   "cell_type": "code",
   "execution_count": null,
   "id": "abb744f5-cb61-4e30-a7fb-cd6f778c362a",
   "metadata": {},
   "outputs": [],
   "source": [
    "import time\n",
    "from Arm_Lib import Arm_Device\n",
    "\n",
    "Arm = Arm_Device()\n",
    "time.sleep(.1)"
   ]
  },
  {
   "cell_type": "code",
   "execution_count": null,
   "id": "e8cb6cb6-1521-46d9-a970-37f9861b2679",
   "metadata": {},
   "outputs": [],
   "source": [
    "# 학습모드를 사용하게 되면 로봇 팔의 토크가 풀려서 움직일 수 있다.\n",
    "# 학습모드에서는 수동으로 로봇 팔을 조종할 수 있다.\n",
    "Arm.Arm_Button_Mode(1)"
   ]
  },
  {
   "cell_type": "code",
   "execution_count": null,
   "id": "7e44a5b9-6d35-4bab-8e0c-0db3b4c095dd",
   "metadata": {},
   "outputs": [],
   "source": [
    "# 이 곳은 학습을 등록하는 곳이다. \n",
    "# 팔을 움직이고 실행할 때 마다 동작이 등록된다.(20동작)\n",
    "Arm.Arm_Action_Study()"
   ]
  },
  {
   "cell_type": "code",
   "execution_count": null,
   "id": "07dcb605-ab78-4fba-a814-50c9b29ebf58",
   "metadata": {},
   "outputs": [],
   "source": [
    "# 학습모드를 종료한다.\n",
    "Arm.Arm_Button_Mode(0)"
   ]
  },
  {
   "cell_type": "code",
   "execution_count": null,
   "id": "39dc8154-4f06-4e9e-bd96-501d4616dea3",
   "metadata": {},
   "outputs": [],
   "source": [
    "# 저장된 학습의 갯수를 알려준다.\n",
    "num = Arm.Arm_Read_Action_Num()\n",
    "print(num)"
   ]
  },
  {
   "cell_type": "code",
   "execution_count": null,
   "id": "59c7461c-800f-47ac-8836-eecb8a248ead",
   "metadata": {},
   "outputs": [],
   "source": [
    "# 학습된 동작을 한 번 실행한다.\n",
    "Arm.Arm_Action_Mode(1)"
   ]
  },
  {
   "cell_type": "code",
   "execution_count": null,
   "id": "3f582364-57ee-40f0-802b-0f51cbb4d52e",
   "metadata": {},
   "outputs": [],
   "source": [
    "# 학습된 동작을 반복한다.\n",
    "Arm.Arm_Action_Mode(2)"
   ]
  },
  {
   "cell_type": "code",
   "execution_count": null,
   "id": "b9df9e87-bfd1-4b4d-a6c0-7fdcf49f905f",
   "metadata": {},
   "outputs": [],
   "source": [
    "# 학습된 동작을 멈춘다.\n",
    "Arm.Arm_Action_Mode(0)"
   ]
  },
  {
   "cell_type": "code",
   "execution_count": null,
   "id": "ef642d9b-57a2-4877-9922-29871d234673",
   "metadata": {},
   "outputs": [],
   "source": [
    "# 학습된 동작을 초기화 한다.\n",
    "Arm.Arm_Clear_Action()"
   ]
  },
  {
   "cell_type": "code",
   "execution_count": null,
   "id": "4c3fbdb5-9e8c-489f-afa3-37c84a550e0d",
   "metadata": {},
   "outputs": [],
   "source": [
    "del Arm   # Release DOFBOT object"
   ]
  }
 ],
 "metadata": {
  "kernelspec": {
   "display_name": "Python 2",
   "language": "python",
   "name": "python2"
  },
  "language_info": {
   "codemirror_mode": {
    "name": "ipython",
    "version": 2
   },
   "file_extension": ".py",
   "mimetype": "text/x-python",
   "name": "python",
   "nbconvert_exporter": "python",
   "pygments_lexer": "ipython2",
   "version": "2.7.17"
  }
 },
 "nbformat": 4,
 "nbformat_minor": 5
}
