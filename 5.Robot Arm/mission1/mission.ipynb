{
 "cells": [
  {
   "cell_type": "markdown",
   "id": "33f35d8f-30a4-4015-983f-c0fc7d793e8d",
   "metadata": {},
   "source": [
    "### Import in the necessary libraries"
   ]
  },
  {
   "cell_type": "code",
   "execution_count": null,
   "id": "ad61477a-89af-4532-928b-8be33d3efb7d",
   "metadata": {},
   "outputs": [],
   "source": [
    "import cv2 as cv\n",
    "import threading\n",
    "import os\n",
    "from time import sleep\n",
    "import ipywidgets as widgets\n",
    "from mission_lib import Movement\n",
    "from event_name import EventName\n",
    "from IPython.display import display"
   ]
  },
  {
   "cell_type": "markdown",
   "id": "cc794f32-1381-4b63-9df1-9ab1f4f79c75",
   "metadata": {},
   "source": [
    "### Import and initialize the Arm Device"
   ]
  },
  {
   "cell_type": "code",
   "execution_count": null,
   "id": "7ef3294e-5758-4af2-9643-73f4656e831b",
   "metadata": {},
   "outputs": [],
   "source": [
    "import Arm_Lib\n",
    "Arm = Arm_Lib.Arm_Device()\n",
    "joints_0 = [90, 90, 90, 90, 90, 90]\n",
    "Arm.Arm_serial_servo_write6_array(joints_0, 1000)"
   ]
  },
  {
   "cell_type": "markdown",
   "id": "2e5fb5ea-0458-4992-b94d-2b334714af94",
   "metadata": {},
   "source": [
    "### Initialize the movement objects, even name handlers and the music handlers"
   ]
  },
  {
   "cell_type": "code",
   "execution_count": null,
   "id": "326e18e2-a2f9-46dc-8846-a98528efc85f",
   "metadata": {},
   "outputs": [],
   "source": [
    "movement = Movement(Arm)\n",
    "e = EventName()\n",
    "move_speed = {\"Slow\": 1500,\n",
    "             \"Regular\": 1000,\n",
    "             \"Fast\": 500}"
   ]
  },
  {
   "cell_type": "markdown",
   "id": "fd7f7a6c-a6ac-4272-af36-87e9a8473f9e",
   "metadata": {},
   "source": [
    "### Create the widgets "
   ]
  },
  {
   "cell_type": "code",
   "execution_count": null,
   "id": "cd6bc4e0-7f3e-4fd4-a46c-76659632ccc2",
   "metadata": {},
   "outputs": [],
   "source": [
    "button_layout = widgets.Layout(width='200px', height='60px', align_self='center')\n",
    "short_layout = widgets.Layout(width='200px', height='75px', align_self='center')\n",
    "\n",
    "output = widgets.Output()\n",
    "\n",
    "choose_movement = widgets.ToggleButtons(options=['Slow', 'Regular', 'Fast'], button_style='success',\n",
    "                                        tooltips=['Description of slow', 'Description of regular', 'Description of fast'])\n",
    "\n",
    "# Movement Widgets\n",
    "pinch_button = widgets.Button(description='Pinch', button_style='success', layout=button_layout)\n",
    "\n",
    "release_button = widgets.Button(description='Release', button_style='primary', layout=button_layout)\n",
    "\n",
    "up_button = widgets.Button(description='Up', button_style='primary', layout=short_layout)\n",
    "\n",
    "down_button = widgets.Button(description='Down', button_style='primary', layout=short_layout)\n",
    "\n",
    "left_button = widgets.Button(description='Left', button_style='primary', layout=short_layout)\n",
    "\n",
    "right_button = widgets.Button(description='Right', button_style='primary', layout=short_layout)\n",
    "\n",
    "# Sound Widget\n",
    "\n",
    "play_button = widgets.Button(description='Play Sound', button_style='success', layout=button_layout)\n",
    "\n",
    "stop_button = widgets.Button(description='Stop Sound', button_style='success', layout=button_layout)\n",
    "\n",
    "# Exit Widget\n",
    "exit_button = widgets.Button(description='Exit', button_style='danger', layout=button_layout)\n",
    "\n",
    "imgbox = widgets.Image(format='jpg', height=480, width=640, layout=widgets.Layout(align_self='auto'))\n",
    "\n",
    "img_box = widgets.VBox([imgbox, choose_movement], layout=widgets.Layout(align_self='auto'))\n",
    "\n",
    "Slider_box = widgets.VBox([pinch_button, release_button, play_button,stop_button, exit_button],\n",
    "                          layout=widgets.Layout(align_self='auto'))\n",
    "Move_box = widgets.VBox([up_button, down_button, left_button, right_button],\n",
    "                          layout=widgets.Layout(align_self='auto'))\n",
    "\n",
    "controls_box = widgets.HBox([img_box, Move_box, Slider_box], layout=widgets.Layout(align_self='auto'))\n",
    "# ['auto', 'flex-start', 'flex-end', 'center', 'baseline', 'stretch', 'inherit', 'initial', 'unset']"
   ]
  },
  {
   "cell_type": "markdown",
   "id": "18a42ebb-ff03-41b5-b2ee-1d8520a6856d",
   "metadata": {},
   "source": [
    "### Create the event handlers for the widgets"
   ]
  },
  {
   "cell_type": "code",
   "execution_count": null,
   "id": "38396785-46b5-45d2-8ab1-354ab223245c",
   "metadata": {},
   "outputs": [],
   "source": [
    "play_button.on_click(e.play_button_Callback)\n",
    "stop_button.on_click(e.stop_button_Callback)\n",
    "pinch_button.on_click(e.pinch_button_Callback)\n",
    "release_button.on_click(e.release_button_Callback)\n",
    "up_button.on_click(e.up_button_Callback)\n",
    "down_button.on_click(e.down_button_Callback)\n",
    "left_button.on_click(e.left_button_Callback)\n",
    "right_button.on_click(e.right_button_Callback)\n",
    "exit_button.on_click(e.exit_button_Callback)"
   ]
  },
  {
   "cell_type": "markdown",
   "id": "230a2337-17d3-4d85-8eec-9c574b260e8c",
   "metadata": {},
   "source": [
    "### Create the main function camera()"
   ]
  },
  {
   "cell_type": "code",
   "execution_count": null,
   "id": "62e9d705-06cc-4c23-b954-b097c49ab7e5",
   "metadata": {},
   "outputs": [],
   "source": [
    "def camera():\n",
    "    \n",
    "    # Open camera\n",
    "    capture = cv.VideoCapture(1)\n",
    "   # Be executed in loop when the camera is opened normally \n",
    "    while True:\n",
    "        try:\n",
    "            _, img = capture.read()\n",
    "\n",
    "            img = cv.resize(img, (640, 480))\n",
    "\n",
    "            if e.action == 'Up':\n",
    "                movement.move_up(move_speed[choose_movement.value])\n",
    "                e.reset()\n",
    "            if e.action == 'Down':\n",
    "                movement.move_down(move_speed[choose_movement.value])\n",
    "                e.reset()\n",
    "            if e.action == 'Left':\n",
    "                movement.move_left(move_speed[choose_movement.value])\n",
    "                e.reset()\n",
    "            if e.action == 'Right':\n",
    "                movement.move_right(move_speed[choose_movement.value])\n",
    "                e.reset()\n",
    "            if e.action == 'Pinch':\n",
    "                movement.move_pincher(move_speed[choose_movement.value])\n",
    "                e.reset()\n",
    "            if e.action == 'Release':\n",
    "                movement.release_pincher(move_speed[choose_movement.value])\n",
    "                e.reset()\n",
    "            if e.action == 'Play Music':\n",
    "                os.system('rostopic pub -1 /play_specific std_msgs/String \"data: \\'/root/scripts/sensor/arm_sounds/music_cari.mp3\\'\"')\n",
    "                e.reset()\n",
    "            if e.action == 'No Music':\n",
    "                os.system('rostopic pub -1 /play_specific std_msgs/String \"data: \\'stop\\'\"')\n",
    "                e.reset()\n",
    "            if e.action == 'Exit':\n",
    "                cv.destroyAllWindows()\n",
    "                capture.release()\n",
    "                break\n",
    "            imgbox.value = cv.imencode('.jpg', img)[1].tobytes()\n",
    "            sleep(0.25)\n",
    "        except KeyboardInterrupt:capture.release()"
   ]
  },
  {
   "cell_type": "markdown",
   "id": "338e65aa-6abe-47df-a941-1101de614fcc",
   "metadata": {},
   "source": [
    "### Execute the camera() function"
   ]
  },
  {
   "cell_type": "code",
   "execution_count": null,
   "id": "3db93c11-75c5-421c-bdbd-8ecb6a23a00b",
   "metadata": {},
   "outputs": [],
   "source": [
    "display(controls_box,output)\n",
    "threading.Thread(target=camera, ).start()"
   ]
  },
  {
   "cell_type": "markdown",
   "id": "d99f2837-5de2-452f-93e5-0e22521dc285",
   "metadata": {},
   "source": [
    "### After exiting and finishing all the tasks, delete the robot arm object. "
   ]
  },
  {
   "cell_type": "code",
   "execution_count": null,
   "id": "a3d13a5a-bda9-44a3-bf92-ebcbbd57680f",
   "metadata": {},
   "outputs": [],
   "source": [
    "del Arm"
   ]
  }
 ],
 "metadata": {
  "kernelspec": {
   "display_name": "Python 2",
   "language": "python",
   "name": "python2"
  },
  "language_info": {
   "codemirror_mode": {
    "name": "ipython",
    "version": 2
   },
   "file_extension": ".py",
   "mimetype": "text/x-python",
   "name": "python",
   "nbconvert_exporter": "python",
   "pygments_lexer": "ipython2",
   "version": "2.7.17"
  }
 },
 "nbformat": 4,
 "nbformat_minor": 5
}
