{
 "cells": [
  {
   "cell_type": "code",
   "execution_count": null,
   "metadata": {},
   "outputs": [],
   "source": [
    "from __future__ import print_function\n",
    "import sys\n",
    "import rospy\n",
    "from rospy_tutorials.srv import *"
   ]
  },
  {
   "cell_type": "code",
   "execution_count": null,
   "metadata": {},
   "outputs": [],
   "source": [
    "def add_two_ints_client(x, y):\n",
    "    rospy.wait_for_service('add_two_ints')\n",
    "    try:\n",
    "        add_two_ints = rospy.ServiceProxy('add_two_ints', AddTwoInts)\n",
    "        resp1 = add_two_ints(x, y)\n",
    "        return resp1.sum\n",
    "    except rospy.ServiceException as e:\n",
    "        print(\"Service call failed: %s\"%e)"
   ]
  },
  {
   "cell_type": "code",
   "execution_count": null,
   "metadata": {},
   "outputs": [],
   "source": [
    "def usage():\n",
    "    return \"%s [x y]\"%sys.argv[0]"
   ]
  },
  {
   "cell_type": "code",
   "execution_count": null,
   "metadata": {},
   "outputs": [],
   "source": [
    "input_num = input(u\"숫자 두 개를 입력하세요(ex: a,b) : \")\n",
    "x = int(input_num[0])\n",
    "y = int(input_num[1])\n",
    "print(\"Requesting %s+%s\"%(x, y))\n",
    "print(\"%s + %s = %s\"%(x, y, add_two_ints_client(x, y)))"
   ]
  }
 ],
 "metadata": {
  "language_info": {
   "name": "python"
  },
  "orig_nbformat": 4
 },
 "nbformat": 4,
 "nbformat_minor": 2
}
