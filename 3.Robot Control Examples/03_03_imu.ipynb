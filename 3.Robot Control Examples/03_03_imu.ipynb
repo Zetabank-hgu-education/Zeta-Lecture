{
 "cells": [
  {
   "cell_type": "code",
   "execution_count": null,
   "metadata": {
    "tags": []
   },
   "outputs": [],
   "source": [
    "import rospy\n",
    "from sensor_msgs.msg import Imu\n",
    "from tf.transformations import quaternion_from_euler"
   ]
  },
  {
   "cell_type": "code",
   "execution_count": null,
   "metadata": {},
   "outputs": [],
   "source": [
    "def process_imu(msg):\n",
    "    rospy.loginfo(\"x: {},y: {},z: {},w: {}\".format(msg.orientation.x, msg.orientation.y, msg.orientation.z, msg.orientation.w))\n",
    "    rospy.sleep(2)\n",
    "    \n",
    "def start_node():\n",
    "    rospy.init_node('zetabot')\n",
    "    rospy.Subscriber(\"imu\", Imu, process_imu)\n",
    "    rospy.spin()\n",
    "\n",
    "try:\n",
    "    start_node()\n",
    "except rospy.ROSInterruptException as err:\n",
    "    print(err)"
   ]
  },
  {
   "cell_type": "code",
   "execution_count": null,
   "metadata": {},
   "outputs": [],
   "source": []
  }
 ],
 "metadata": {
  "kernelspec": {
   "display_name": "Python 2",
   "language": "python",
   "name": "python2"
  },
  "language_info": {
   "codemirror_mode": {
    "name": "ipython",
    "version": 2
   },
   "file_extension": ".py",
   "mimetype": "text/x-python",
   "name": "python",
   "nbconvert_exporter": "python",
   "pygments_lexer": "ipython2",
   "version": "2.7.17"
  }
 },
 "nbformat": 4,
 "nbformat_minor": 4
}
