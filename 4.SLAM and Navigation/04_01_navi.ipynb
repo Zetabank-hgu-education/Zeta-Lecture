{
 "cells": [
  {
   "cell_type": "code",
   "execution_count": null,
   "id": "6bd09509-96af-4742-bcc7-dba76838c2ed",
   "metadata": {},
   "outputs": [],
   "source": [
    "import rospy\n",
    "from geometry_msgs.msg import PoseStamped"
   ]
  },
  {
   "cell_type": "code",
   "execution_count": null,
   "id": "500f9faf-7104-4f76-afa3-b1ef74fa480d",
   "metadata": {},
   "outputs": [],
   "source": [
    "def send_goal(x, y):\n",
    "    rospy.init_node('goal_sender')\n",
    "    pub = rospy.Publisher('/move_base_simple/goal', PoseStamped, queue_size=10)\n",
    "    rate = rospy.Rate(10)\n",
    "    \n",
    "    goal = PoseStamped()\n",
    "    goal.header.stamp = rospy.Time.now()\n",
    "    goal.header.frame_id = \"map\"\n",
    "    goal.pose.position.x = x\n",
    "    goal.pose.position.y = y\n",
    "    goal.pose.orientation.w = 1.0\n",
    "    \n",
    "    while not rospy.is_shutdown():\n",
    "        pub.publish(goal)\n",
    "        rate.sleep()"
   ]
  },
  {
   "cell_type": "code",
   "execution_count": null,
   "id": "3776bf1b-4c18-4ddd-8da4-af792233163d",
   "metadata": {},
   "outputs": [],
   "source": [
    "if __name__ == '__main__':\n",
    "    try:\n",
    "        x = x1   # 이동할 x 좌표\n",
    "        y = y1   # 이동할 y 좌표\n",
    "        send_goal(x, y)\n",
    "    except rospy.ROSInterruptException:\n",
    "        pass"
   ]
  }
 ],
 "metadata": {
  "kernelspec": {
   "display_name": "Python 2",
   "language": "python",
   "name": "python2"
  },
  "language_info": {
   "codemirror_mode": {
    "name": "ipython",
    "version": 2
   },
   "file_extension": ".py",
   "mimetype": "text/x-python",
   "name": "python",
   "nbconvert_exporter": "python",
   "pygments_lexer": "ipython2",
   "version": "2.7.17"
  }
 },
 "nbformat": 4,
 "nbformat_minor": 5
}
