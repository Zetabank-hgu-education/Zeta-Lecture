{
 "cells": [
  {
   "cell_type": "code",
   "execution_count": null,
   "id": "0576e174-ffb1-44c1-89d0-b137b248f192",
   "metadata": {},
   "outputs": [],
   "source": [
    "import rospy\n",
    "from geometry_msgs.msg import PoseStamped"
   ]
  },
  {
   "cell_type": "code",
   "execution_count": null,
   "id": "4a11932f-4fca-4ea4-8f03-63a313327ae2",
   "metadata": {},
   "outputs": [],
   "source": [
    "def goal_callback(msg):\n",
    "    x = msg.pose.position.x\n",
    "    y = msg.pose.position.y\n",
    "    rospy.sleep(10)\n",
    "    rospy.loginfo('Goal position: x={}, y={}'.format(x, y))"
   ]
  },
  {
   "cell_type": "code",
   "execution_count": null,
   "id": "80ca7d40-46d9-472b-a752-c30aba93f57f",
   "metadata": {},
   "outputs": [],
   "source": [
    "if __name__== '__main__':\n",
    "    rospy.init_node('get_goal_position_example')\n",
    "    rospy.Subscriber('/move_base_simple/goal', PoseStamped, goal_callback)\n",
    "    \n",
    "    rospy.spin()"
   ]
  }
 ],
 "metadata": {
  "kernelspec": {
   "display_name": "Python 2",
   "language": "python",
   "name": "python2"
  },
  "language_info": {
   "codemirror_mode": {
    "name": "ipython",
    "version": 2
   },
   "file_extension": ".py",
   "mimetype": "text/x-python",
   "name": "python",
   "nbconvert_exporter": "python",
   "pygments_lexer": "ipython2",
   "version": "2.7.17"
  }
 },
 "nbformat": 4,
 "nbformat_minor": 5
}
