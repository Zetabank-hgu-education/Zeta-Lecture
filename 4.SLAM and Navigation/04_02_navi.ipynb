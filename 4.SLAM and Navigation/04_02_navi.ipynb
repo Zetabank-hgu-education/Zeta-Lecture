{
 "cells": [
  {
   "cell_type": "code",
   "execution_count": null,
   "id": "5367502f-8450-4895-a375-60645d0d9539",
   "metadata": {},
   "outputs": [],
   "source": [
    "import rospy\n",
    "from geometry_msgs.msg import PoseStamped"
   ]
  },
  {
   "cell_type": "code",
   "execution_count": null,
   "id": "f5377532-e96a-48ff-b673-d7920673d0ee",
   "metadata": {},
   "outputs": [],
   "source": [
    "def send_goal(x, y):\n",
    "    pub = rospy.Publisher('/move_base_simple/goal', PoseStamped, queue_size=10)\n",
    "    rospy.sleep(1)\n",
    "    \n",
    "    goal = PoseStamped()\n",
    "    goal.header.frame_id = 'map'\n",
    "    goal.pose.position.x = x\n",
    "    goal.pose.position.y = y\n",
    "    goal.pose.orientation.w = 1.0\n",
    "    \n",
    "    pub.publish(goal)\n",
    "    rospy.loginfo('Goal sent')"
   ]
  },
  {
   "cell_type": "code",
   "execution_count": null,
   "id": "b40aa01a-1e2c-4a21-a026-b51f46feb8a0",
   "metadata": {},
   "outputs": [],
   "source": [
    "if __name__ == '__main__':\n",
    "    rospy.init_node('navigation_example')\n",
    "    \n",
    "    waypoints = [\n",
    "        (x1, y1),   # 첫번째 경유지 좌표\n",
    "        (x2, y2),   # 두번째 경유지 좌표 \n",
    "        (x3, y3),   # 세번째 경유지 좌표 \n",
    "        (x4, y4)    # 마지막 경유지 좌표\n",
    "    ]\n",
    "    \n",
    "    for waypoint in waypoints:\n",
    "        send_goal(*waypoint)\n",
    "        rospy.sleep(5)"
   ]
  }
 ],
 "metadata": {
  "kernelspec": {
   "display_name": "Python 2",
   "language": "python",
   "name": "python2"
  },
  "language_info": {
   "codemirror_mode": {
    "name": "ipython",
    "version": 2
   },
   "file_extension": ".py",
   "mimetype": "text/x-python",
   "name": "python",
   "nbconvert_exporter": "python",
   "pygments_lexer": "ipython2",
   "version": "2.7.17"
  }
 },
 "nbformat": 4,
 "nbformat_minor": 5
}
