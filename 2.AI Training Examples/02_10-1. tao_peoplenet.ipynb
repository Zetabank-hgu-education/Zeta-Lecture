{
 "cells": [
  {
   "attachments": {},
   "cell_type": "markdown",
   "metadata": {},
   "source": [
    "### Initialize your output stream, and your paths"
   ]
  },
  {
   "cell_type": "code",
   "execution_count": null,
   "metadata": {},
   "outputs": [],
   "source": [
    "from IPython.display import Image\n",
    "\n",
    "%env DISPLAY=:0\n",
    "%env PROGRAM_PATH=/jetson-inference/build/aarch64/bin\n",
    "%env INPUT_PATH=/jetson-inference/build/aarch64/bin/images\n",
    "%env OUTPUT_PATH=/jetson-inference/build/aarch64/bin/images/test\n",
    "\n",
    "input_path='/jetson-inference/build/aarch64/bin/images'\n",
    "output_path='/jetson-inference/build/aarch64/bin/images/test'"
   ]
  },
  {
   "attachments": {},
   "cell_type": "markdown",
   "metadata": {},
   "source": [
    "### See all the available pictures of people"
   ]
  },
  {
   "cell_type": "code",
   "execution_count": null,
   "metadata": {},
   "outputs": [],
   "source": [
    "!ls $INPUT_PATH/humans_*"
   ]
  },
  {
   "attachments": {},
   "cell_type": "markdown",
   "metadata": {},
   "source": [
    "### Pick one of the names and initialize the image_name"
   ]
  },
  {
   "cell_type": "code",
   "execution_count": null,
   "metadata": {},
   "outputs": [],
   "source": [
    "image_name = 'humans_15.jpg'\n",
    "output_name = 'people_result.jpg'\n",
    "%env IMAGE_NAME = $image_name\n",
    "%env OUTPUT_NAME = $output_name\n",
    "\n",
    "Image(filename=input_path+'/'+image_name) "
   ]
  },
  {
   "attachments": {},
   "cell_type": "markdown",
   "metadata": {},
   "source": [
    "### Run the Code"
   ]
  },
  {
   "cell_type": "code",
   "execution_count": null,
   "metadata": {},
   "outputs": [],
   "source": [
    "!python3 $PROGRAM_PATH/detectnet.py --network=peoplenet $INPUT_PATH/$IMAGE_NAME $OUTPUT_PATH/$OUTPUT_NAME"
   ]
  },
  {
   "attachments": {},
   "cell_type": "markdown",
   "metadata": {},
   "source": [
    "### Output the image"
   ]
  },
  {
   "cell_type": "code",
   "execution_count": null,
   "metadata": {},
   "outputs": [],
   "source": [
    "Image(filename=output_path+'/people_result.jpg') "
   ]
  },
  {
   "cell_type": "code",
   "execution_count": null,
   "metadata": {},
   "outputs": [],
   "source": []
  }
 ],
 "metadata": {
  "language_info": {
   "name": "python"
  },
  "orig_nbformat": 4
 },
 "nbformat": 4,
 "nbformat_minor": 2
}
