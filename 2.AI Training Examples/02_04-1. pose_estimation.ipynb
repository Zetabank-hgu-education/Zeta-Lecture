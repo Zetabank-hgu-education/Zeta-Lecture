{
 "cells": [
  {
   "attachments": {},
   "cell_type": "markdown",
   "id": "3b56867a-5310-4629-8c13-77b60ac13eb2",
   "metadata": {},
   "source": [
    "### Initialize your output stream, and your paths"
   ]
  },
  {
   "cell_type": "code",
   "execution_count": null,
   "id": "b21b1b51-fe33-47a0-b174-bd1ee8c97d0e",
   "metadata": {},
   "outputs": [],
   "source": [
    "from IPython.display import Image\n",
    "\n",
    "%env DISPLAY=:0\n",
    "%env PROGRAM_PATH=/jetson-inference/build/aarch64/bin\n",
    "%env INPUT_PATH=/jetson-inference/build/aarch64/bin/images\n",
    "%env OUTPUT_PATH=/jetson-inference/build/aarch64/bin/images/test\n",
    "\n",
    "input_path='/jetson-inference/build/aarch64/bin/images'\n",
    "output_path='/jetson-inference/build/aarch64/bin/images/test'"
   ]
  },
  {
   "attachments": {},
   "cell_type": "markdown",
   "id": "1630949e-b798-4391-99cf-4fc6feb117b6",
   "metadata": {},
   "source": [
    "### See all the available pictures of people"
   ]
  },
  {
   "cell_type": "code",
   "execution_count": null,
   "id": "807d1897-a2d1-47ee-8fe8-467cd03ace42",
   "metadata": {},
   "outputs": [],
   "source": [
    "!ls $INPUT_PATH/humans_*"
   ]
  },
  {
   "attachments": {},
   "cell_type": "markdown",
   "id": "f6e262d6-258a-49dd-bb5f-e460894235a3",
   "metadata": {},
   "source": [
    "### Pick one of the names and initialize the image_name"
   ]
  },
  {
   "cell_type": "code",
   "execution_count": null,
   "id": "3e909b08-cfac-469f-90f1-edd1f6d907fa",
   "metadata": {},
   "outputs": [],
   "source": [
    "image_name = 'humans_16.jpg'\n",
    "output_name = 'human_result.jpg'\n",
    "%env IMAGE_NAME = $image_name\n",
    "%env OUTPUT_NAME = $output_name\n",
    "\n",
    "Image(filename=input_path+'/'+image_name) "
   ]
  },
  {
   "attachments": {},
   "cell_type": "markdown",
   "id": "53c51e84-83f5-4780-b03f-2f4f9b1f3e9f",
   "metadata": {},
   "source": [
    "### Run the Code"
   ]
  },
  {
   "cell_type": "code",
   "execution_count": null,
   "id": "6cea12f4-b21e-4719-a0e0-fba190901d7b",
   "metadata": {},
   "outputs": [],
   "source": [
    "!python3 $PROGRAM_PATH/posenet.py --network=resnet18-body $INPUT_PATH/$IMAGE_NAME $OUTPUT_PATH/$OUTPUT_NAME"
   ]
  },
  {
   "attachments": {},
   "cell_type": "markdown",
   "id": "c8b14c6d-df81-47d1-afe7-7b04d9cdec4e",
   "metadata": {},
   "source": [
    "### Output the image"
   ]
  },
  {
   "cell_type": "code",
   "execution_count": null,
   "id": "1742af6d-7663-45a0-b2b3-f5349c53a271",
   "metadata": {},
   "outputs": [],
   "source": [
    "Image(filename=output_path+'/human_result.jpg') "
   ]
  },
  {
   "cell_type": "code",
   "execution_count": null,
   "id": "2ca20e55-70c6-4f5b-bb60-336f20def0da",
   "metadata": {},
   "outputs": [],
   "source": []
  }
 ],
 "metadata": {
  "kernelspec": {
   "display_name": "Python 3",
   "language": "python",
   "name": "python3"
  },
  "language_info": {
   "codemirror_mode": {
    "name": "ipython",
    "version": 3
   },
   "file_extension": ".py",
   "mimetype": "text/x-python",
   "name": "python",
   "nbconvert_exporter": "python",
   "pygments_lexer": "ipython3",
   "version": "3.6.9"
  }
 },
 "nbformat": 4,
 "nbformat_minor": 5
}
