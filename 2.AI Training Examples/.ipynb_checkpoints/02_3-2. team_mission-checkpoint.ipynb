{
 "cells": [
  {
   "cell_type": "markdown",
   "id": "4978c482-f403-45e0-9e12-273805a9d707",
   "metadata": {},
   "source": [
    "### Bring in the team mission python code and see if it is correct"
   ]
  },
  {
   "cell_type": "code",
   "execution_count": null,
   "id": "e3423499-2c7e-4e29-b85e-82b672a8d684",
   "metadata": {},
   "outputs": [],
   "source": [
    "cat /root/notebook/lecture1/'2.AI Training Examples'/'02_3-1. team_mission.py'"
   ]
  },
  {
   "cell_type": "markdown",
   "id": "ceaa1757-167f-4e09-ac44-7f8b7943585e",
   "metadata": {},
   "source": [
    "### Execute the cell below to run your code"
   ]
  },
  {
   "cell_type": "code",
   "execution_count": null,
   "id": "b3a29ccf-f1b5-4c42-90a5-93d5505367ec",
   "metadata": {},
   "outputs": [],
   "source": [
    "%%capture\n",
    "!pm2 stop jetson_camera"
   ]
  },
  {
   "cell_type": "code",
   "execution_count": null,
   "id": "3e25b2a7-0a9e-4b68-b8c7-cb7855ccbd4d",
   "metadata": {
    "tags": []
   },
   "outputs": [],
   "source": [
    "%%capture \n",
    "# Comment this cell if you wish to see the program output\n",
    "%env DISPLAY=:0\n",
    "!python3 /root/notebook/lecture1/'2.AI Training Examples'/'02_3-1. team_mission.py';"
   ]
  },
  {
   "cell_type": "code",
   "execution_count": null,
   "id": "369cef36-25b2-4640-b283-5362a70b9386",
   "metadata": {},
   "outputs": [],
   "source": [
    "%%capture\n",
    "!pm2 start jetson_camera"
   ]
  },
  {
   "cell_type": "code",
   "execution_count": null,
   "id": "09f98a64-c59b-405e-9411-bc551644c3ed",
   "metadata": {},
   "outputs": [],
   "source": [
    "!pm2"
   ]
  },
  {
   "cell_type": "code",
   "execution_count": null,
   "id": "13c131f5-7817-4028-b87c-b0ca93caa831",
   "metadata": {},
   "outputs": [],
   "source": [
    "!top"
   ]
  },
  {
   "cell_type": "code",
   "execution_count": null,
   "id": "01be35d0-6fc8-43c8-949f-39ed371df1d1",
   "metadata": {},
   "outputs": [],
   "source": []
  }
 ],
 "metadata": {
  "kernelspec": {
   "display_name": "Python 3",
   "language": "python",
   "name": "python3"
  },
  "language_info": {
   "codemirror_mode": {
    "name": "ipython",
    "version": 3
   },
   "file_extension": ".py",
   "mimetype": "text/x-python",
   "name": "python",
   "nbconvert_exporter": "python",
   "pygments_lexer": "ipython3",
   "version": "3.6.9"
  }
 },
 "nbformat": 4,
 "nbformat_minor": 5
}
