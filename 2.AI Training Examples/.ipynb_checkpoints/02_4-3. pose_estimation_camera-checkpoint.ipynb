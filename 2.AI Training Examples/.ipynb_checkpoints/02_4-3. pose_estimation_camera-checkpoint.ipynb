{
 "cells": [
  {
   "cell_type": "markdown",
   "id": "92771722-b77d-4526-b9c6-a088796f8cd8",
   "metadata": {},
   "source": [
    "### Initialize jupyter environment variables"
   ]
  },
  {
   "cell_type": "code",
   "execution_count": null,
   "id": "ab294b7f-a846-4151-9cbb-0598f03fadfd",
   "metadata": {},
   "outputs": [],
   "source": [
    "%env DISPLAY=:0\n",
    "%env csi=:0\n",
    "%env CAMERA=csi://0"
   ]
  },
  {
   "cell_type": "markdown",
   "id": "e299c962-022c-4420-a9a8-94054893bdd0",
   "metadata": {},
   "source": [
    "### Bring in the team mission python code and see if it is correct"
   ]
  },
  {
   "cell_type": "code",
   "execution_count": null,
   "id": "628470ac-4c10-43f1-8218-54419a5b6dd2",
   "metadata": {},
   "outputs": [],
   "source": [
    "cat /root/notebook/lecture/'2.AI Training Examples'/'02_4-2. pose_estimation_camera.py'"
   ]
  },
  {
   "cell_type": "markdown",
   "id": "b476ab23-9388-4797-8fed-89602cc45fc1",
   "metadata": {},
   "source": [
    "### Execute the cell below to run your code"
   ]
  },
  {
   "cell_type": "code",
   "execution_count": null,
   "id": "28a44a1e-7ceb-4432-b60e-f696410d8c73",
   "metadata": {},
   "outputs": [],
   "source": [
    "%%capture\n",
    "!pm2 stop jetson_camera"
   ]
  },
  {
   "cell_type": "code",
   "execution_count": null,
   "id": "256b2b47-f46d-4351-9740-af24f37eea76",
   "metadata": {
    "tags": []
   },
   "outputs": [],
   "source": [
    "%%capture\n",
    "!python3 /root/notebook/lecture1/'2.AI Training Examples'/'02_4-2. pose_estimation_camera.py' --network=resnet18-body --overlay=box,keypoints $CAMERA"
   ]
  },
  {
   "cell_type": "code",
   "execution_count": null,
   "id": "5e162ebc-3fdb-4b64-98e8-d918bae0c7e9",
   "metadata": {},
   "outputs": [],
   "source": [
    "%%capture\n",
    "!pm2 start jetson_camera"
   ]
  },
  {
   "cell_type": "code",
   "execution_count": null,
   "id": "5600c797-68c3-4deb-a8ea-605126c12e4d",
   "metadata": {},
   "outputs": [],
   "source": []
  }
 ],
 "metadata": {
  "kernelspec": {
   "display_name": "Python 3",
   "language": "python",
   "name": "python3"
  },
  "language_info": {
   "codemirror_mode": {
    "name": "ipython",
    "version": 3
   },
   "file_extension": ".py",
   "mimetype": "text/x-python",
   "name": "python",
   "nbconvert_exporter": "python",
   "pygments_lexer": "ipython3",
   "version": "3.6.9"
  }
 },
 "nbformat": 4,
 "nbformat_minor": 5
}
