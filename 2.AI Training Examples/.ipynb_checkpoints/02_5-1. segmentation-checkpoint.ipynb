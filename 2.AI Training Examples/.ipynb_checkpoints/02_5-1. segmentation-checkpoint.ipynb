{
 "cells": [
  {
   "cell_type": "markdown",
   "id": "7756354a-c4a5-42f0-b378-43ca18e518d8",
   "metadata": {},
   "source": [
    "### Initialize your output stream, and your paths"
   ]
  },
  {
   "cell_type": "code",
   "execution_count": null,
   "id": "5cbbe84c-1b23-4956-bd04-cd9ae48f56ea",
   "metadata": {},
   "outputs": [],
   "source": [
    "from IPython.display import Image\n",
    "\n",
    "%env DISPLAY=:0\n",
    "%env PROGRAM_PATH=/root/jetson-inference/build/aarch64/bin\n",
    "%env INPUT_PATH=/root/jetson-inference/build/aarch64/bin/images\n",
    "%env OUTPUT_PATH=/root/jetson-inference/build/aarch64/bin/images/test\n",
    "\n",
    "input_path='/root/jetson-inference/build/aarch64/bin/images'\n",
    "output_path='/root/jetson-inference/build/aarch64/bin/images/test'"
   ]
  },
  {
   "cell_type": "markdown",
   "id": "95adc5b8-87c6-4eca-bed7-8fb725a11422",
   "metadata": {},
   "source": [
    "## FCN-Resnet18 model trained with CityScapes dataset with different urban street scenes. "
   ]
  },
  {
   "cell_type": "markdown",
   "id": "66546a75-877e-495b-97fa-9f87268df7cc",
   "metadata": {},
   "source": [
    "### Images with urban city scenes"
   ]
  },
  {
   "cell_type": "code",
   "execution_count": null,
   "id": "829ab9d4-bf75-4f80-a3a3-462651854565",
   "metadata": {},
   "outputs": [],
   "source": [
    "!ls $INPUT_PATH/city_*"
   ]
  },
  {
   "cell_type": "markdown",
   "id": "3f23c803-86c6-429e-beee-188669631dac",
   "metadata": {},
   "source": [
    "### Pick an image with scenes of urban city"
   ]
  },
  {
   "cell_type": "code",
   "execution_count": null,
   "id": "71b7d1d4-9a3e-4550-af28-88545f76ed49",
   "metadata": {},
   "outputs": [],
   "source": [
    "image_name = 'city_0.jpg'\n",
    "output_name = 'city_result.jpg'\n",
    "%env IMAGE_NAME = $image_name\n",
    "%env OUTPUT_NAME = $output_name\n",
    "\n",
    "Image(filename=input_path+'/'+image_name) "
   ]
  },
  {
   "cell_type": "markdown",
   "id": "f4f7febc-508e-4188-80ac-1ea33c9cbc4e",
   "metadata": {},
   "source": [
    "### Run the city segmenation program"
   ]
  },
  {
   "cell_type": "code",
   "execution_count": null,
   "id": "cdf62558-3919-403e-b79b-f6aee3cc1bae",
   "metadata": {},
   "outputs": [],
   "source": [
    "%%capture\n",
    "!python3 $PROGRAM_PATH/segnet.py --network=fcn-resnet18-cityscapes $INPUT_PATH/$IMAGE_NAME $OUTPUT_PATH/$OUTPUT_NAME"
   ]
  },
  {
   "cell_type": "markdown",
   "id": "0a3c188d-084c-4f6b-9416-62d2d5763de8",
   "metadata": {},
   "source": [
    "### Show the output result"
   ]
  },
  {
   "cell_type": "code",
   "execution_count": null,
   "id": "508ed392-4601-4f83-ac22-f0661f6f1abf",
   "metadata": {},
   "outputs": [],
   "source": [
    "Image(filename=output_path+'/city_result.jpg') "
   ]
  },
  {
   "cell_type": "markdown",
   "id": "7502969f-c060-410f-a203-f16e9974ec43",
   "metadata": {},
   "source": [
    "## FCN-Resnet18 model trained with DeepScene dataset contains off-road forest trails and vegetation, aiding in path-following for outdoor robots. "
   ]
  },
  {
   "cell_type": "markdown",
   "id": "2b490d56-a2b1-4678-a141-f43fbbd7baa7",
   "metadata": {},
   "source": [
    "### Images with off-road trails, and vegetations. "
   ]
  },
  {
   "cell_type": "code",
   "execution_count": null,
   "id": "5894bf13-0d1e-437d-afd3-57d71f6f4724",
   "metadata": {},
   "outputs": [],
   "source": [
    "!ls $INPUT_PATH/trail_*"
   ]
  },
  {
   "cell_type": "markdown",
   "id": "e6ee1e74-0854-467a-b32f-c42e5db2266e",
   "metadata": {},
   "source": [
    "### Pick an image with scenes of urban city"
   ]
  },
  {
   "cell_type": "code",
   "execution_count": null,
   "id": "fc452a74-655d-49d2-9175-51a6df9545b6",
   "metadata": {},
   "outputs": [],
   "source": [
    "image_name = 'trail_0.jpg'\n",
    "output_name = 'trail_result.jpg'\n",
    "%env IMAGE_NAME = $image_name\n",
    "%env OUTPUT_NAME = $output_name\n",
    "\n",
    "Image(filename=input_path+'/'+image_name) "
   ]
  },
  {
   "cell_type": "markdown",
   "id": "15d2a7f6-4804-40d6-9cec-a5d1c39fe34b",
   "metadata": {},
   "source": [
    "### Run the outdoor segmenation program"
   ]
  },
  {
   "cell_type": "code",
   "execution_count": null,
   "id": "96384c01-cc61-43b1-afcc-fadb32018dc8",
   "metadata": {},
   "outputs": [],
   "source": [
    "%%capture\n",
    "!python3 $PROGRAM_PATH/segnet.py --network=fcn-resnet18-deepscene $INPUT_PATH/$IMAGE_NAME $OUTPUT_PATH/$OUTPUT_NAME"
   ]
  },
  {
   "cell_type": "markdown",
   "id": "3d45a8e3-e59a-4b4d-b98b-0b489b62da46",
   "metadata": {},
   "source": [
    "### Show the output result"
   ]
  },
  {
   "cell_type": "code",
   "execution_count": null,
   "id": "09259ae4-e694-4bf2-8bd6-e2479774a777",
   "metadata": {},
   "outputs": [],
   "source": [
    "Image(filename=output_path+'/trail_result.jpg') "
   ]
  },
  {
   "cell_type": "markdown",
   "id": "3479e60d-7693-4c1e-813d-d6672c014a7d",
   "metadata": {
    "tags": []
   },
   "source": [
    "## FCN-Resnet18 model trained with Multi-Human Parsing (MHP) dataset provides dense labeling of body parts, like arms, legs, head, and different types of clothing."
   ]
  },
  {
   "cell_type": "markdown",
   "id": "e75c89f7-1763-46e9-82a8-0a4a063c17b8",
   "metadata": {},
   "source": [
    "### Images of people in different scenarios"
   ]
  },
  {
   "cell_type": "code",
   "execution_count": null,
   "id": "bac16573-2043-4582-88db-213daa309d68",
   "metadata": {},
   "outputs": [],
   "source": [
    "!ls $INPUT_PATH/humans_*"
   ]
  },
  {
   "cell_type": "markdown",
   "id": "a99d7bc3-370f-43e3-81a5-8274baebf1f0",
   "metadata": {},
   "source": [
    "### Pick and image with people in them"
   ]
  },
  {
   "cell_type": "code",
   "execution_count": null,
   "id": "dd6e0379-f8d6-4d21-8b9c-49a689d4ce99",
   "metadata": {},
   "outputs": [],
   "source": [
    "image_name = 'humans_0.jpg'\n",
    "output_name = 'humans_seg_result.jpg'\n",
    "%env IMAGE_NAME = $image_name\n",
    "%env OUTPUT_NAME = $output_name\n",
    "\n",
    "Image(filename=input_path+'/'+image_name) "
   ]
  },
  {
   "cell_type": "markdown",
   "id": "ba772646-1058-47d9-bfff-5ba9dab3fe54",
   "metadata": {},
   "source": [
    "### Run the People segmentation program"
   ]
  },
  {
   "cell_type": "code",
   "execution_count": null,
   "id": "dde8b93a-8a16-49b6-b753-e7b5366656db",
   "metadata": {},
   "outputs": [],
   "source": [
    "%%capture\n",
    "!python3 $PROGRAM_PATH/segnet.py --network=fcn-resnet18-mhp $INPUT_PATH/$IMAGE_NAME $OUTPUT_PATH/$OUTPUT_NAME"
   ]
  },
  {
   "cell_type": "markdown",
   "id": "eca20f3b-e70c-4f51-ab55-84b9bc71a944",
   "metadata": {},
   "source": [
    "### Show the output result"
   ]
  },
  {
   "cell_type": "code",
   "execution_count": null,
   "id": "c0662623-1b6d-4228-a2bf-dcbaa047a06c",
   "metadata": {},
   "outputs": [],
   "source": [
    "Image(filename=output_path+'/humans_seg_result.jpg') "
   ]
  },
  {
   "cell_type": "markdown",
   "id": "b06d79c2-1cb1-4d47-9af0-c2293190f30f",
   "metadata": {},
   "source": [
    "## FCN-Resnet18 model trained with Pascal VOC dataset containing various perople, animals, vehicles, and household objects. "
   ]
  },
  {
   "cell_type": "markdown",
   "id": "8ca801c6-f813-451e-b11e-2742d0c8393a",
   "metadata": {},
   "source": [
    "### Images containing various objects (recommended for models trained on PASCAL VOC dataset)"
   ]
  },
  {
   "cell_type": "code",
   "execution_count": null,
   "id": "8a67fc29-9798-459f-8a42-10b07bf4a631",
   "metadata": {},
   "outputs": [],
   "source": [
    "!ls $INPUT_PATH/object_*"
   ]
  },
  {
   "cell_type": "markdown",
   "id": "6b9ca32c-eaa5-40de-ab04-b1f8934a1586",
   "metadata": {},
   "source": [
    "### Bring in images of various objects, animals and people"
   ]
  },
  {
   "cell_type": "code",
   "execution_count": null,
   "id": "48b09760-e4ca-460a-b6d5-7613c07ed9ed",
   "metadata": {},
   "outputs": [],
   "source": [
    "image_name = 'object_0.jpg'\n",
    "output_name = 'object_result.jpg'\n",
    "%env IMAGE_NAME = $image_name\n",
    "%env OUTPUT_NAME = $output_name\n",
    "\n",
    "Image(filename=input_path+'/'+image_name) "
   ]
  },
  {
   "cell_type": "markdown",
   "id": "3fdd68f2-ad69-4cc3-aa5f-3ef6610dbdce",
   "metadata": {},
   "source": [
    "### Run the segmentation program on the said picture"
   ]
  },
  {
   "cell_type": "code",
   "execution_count": null,
   "id": "c71c14cb-d9da-4074-b5a2-2b354046fc7b",
   "metadata": {},
   "outputs": [],
   "source": [
    "%%capture\n",
    "!python3 $PROGRAM_PATH/segnet.py --network=fcn-resnet18-voc $INPUT_PATH/$IMAGE_NAME $OUTPUT_PATH/$OUTPUT_NAME"
   ]
  },
  {
   "cell_type": "markdown",
   "id": "879e87a3-508e-4b86-b30f-f75951971ace",
   "metadata": {},
   "source": [
    "### Show the output result"
   ]
  },
  {
   "cell_type": "code",
   "execution_count": null,
   "id": "08d8311e-1683-4510-a26e-fcca37d0d56a",
   "metadata": {},
   "outputs": [],
   "source": [
    "Image(filename=output_path+'/object_result.jpg') "
   ]
  },
  {
   "cell_type": "markdown",
   "id": "ad74129a-2397-441e-a686-70c67d3afba8",
   "metadata": {},
   "source": [
    "## FCN-Resnet18 model trained with SUN RGB-D data set containing many indoor objects and scenes commonly found in office spaces and homes."
   ]
  },
  {
   "cell_type": "markdown",
   "id": "a002ead1-9a62-4658-b093-370fbfe775cd",
   "metadata": {},
   "source": [
    "### Pictures of indoor objects and scenes commonly found in office spaces and homes. (recommended for models trained on SUN RGB-D dataset)"
   ]
  },
  {
   "cell_type": "code",
   "execution_count": null,
   "id": "315af18a-2966-4d6e-9e5a-1027e1a885ee",
   "metadata": {},
   "outputs": [],
   "source": [
    "!ls $INPUT_PATH/room_*"
   ]
  },
  {
   "cell_type": "markdown",
   "id": "8ba0e7d4-24a2-4e13-84cb-1469d252c5a6",
   "metadata": {},
   "source": [
    "### Pick an image with indoor scenes"
   ]
  },
  {
   "cell_type": "code",
   "execution_count": null,
   "id": "69d65aaa-ac56-4833-9b58-e5516ffaaf3b",
   "metadata": {},
   "outputs": [],
   "source": [
    "image_name = 'room_0.jpg'\n",
    "output_name = 'room_result.jpg'\n",
    "%env IMAGE_NAME = $image_name\n",
    "%env OUTPUT_NAME = $output_name\n",
    "\n",
    "Image(filename=input_path+'/'+image_name) "
   ]
  },
  {
   "cell_type": "markdown",
   "id": "1d75524e-0394-4cf7-a506-7039291360f3",
   "metadata": {},
   "source": [
    "### Run the segmentation program"
   ]
  },
  {
   "cell_type": "code",
   "execution_count": null,
   "id": "f6cbcecd-3a26-4bfa-8e62-1c5ffc7105b1",
   "metadata": {},
   "outputs": [],
   "source": [
    "%%capture\n",
    "!python3 $PROGRAM_PATH/segnet.py --network=fcn-resnet18-sun $INPUT_PATH/$IMAGE_NAME $OUTPUT_PATH/$OUTPUT_NAME"
   ]
  },
  {
   "cell_type": "markdown",
   "id": "6cd14c46-1631-4795-bab5-e2a97cb5e62b",
   "metadata": {},
   "source": [
    "### Show the output result"
   ]
  },
  {
   "cell_type": "code",
   "execution_count": null,
   "id": "f28fccfb-b877-49d0-82ba-13133d95b4a1",
   "metadata": {},
   "outputs": [],
   "source": [
    "Image(filename=output_path+'/room_result.jpg') "
   ]
  },
  {
   "cell_type": "code",
   "execution_count": null,
   "id": "207e6a78-0007-4e04-b2b7-f84a811e1a37",
   "metadata": {},
   "outputs": [],
   "source": []
  }
 ],
 "metadata": {
  "kernelspec": {
   "display_name": "Python 3",
   "language": "python",
   "name": "python3"
  },
  "language_info": {
   "codemirror_mode": {
    "name": "ipython",
    "version": 3
   },
   "file_extension": ".py",
   "mimetype": "text/x-python",
   "name": "python",
   "nbconvert_exporter": "python",
   "pygments_lexer": "ipython3",
   "version": "3.6.9"
  }
 },
 "nbformat": 4,
 "nbformat_minor": 5
}
