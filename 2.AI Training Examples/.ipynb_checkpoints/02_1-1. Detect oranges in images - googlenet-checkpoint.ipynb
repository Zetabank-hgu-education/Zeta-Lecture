{
 "cells": [
  {
   "cell_type": "code",
   "execution_count": null,
   "id": "0ad6b42b-868a-46d7-9d79-87d58a541cc8",
   "metadata": {},
   "outputs": [],
   "source": [
    "import subprocess"
   ]
  },
  {
   "cell_type": "code",
   "execution_count": null,
   "id": "c80bb80a-0faf-42d9-83fb-5913cbb62f99",
   "metadata": {},
   "outputs": [],
   "source": [
    "# 원본 이미지 확인하기\n",
    "run_command_before = 'bash root/ai_example/show.sh orange before'\n",
    "subprocess.call((run_command_before.split('\\n')), shell=True)"
   ]
  },
  {
   "cell_type": "code",
   "execution_count": null,
   "id": "ca8b5231-9411-47d7-9548-b239b4292226",
   "metadata": {},
   "outputs": [],
   "source": [
    "# 프로세스 종료하기\n",
    "kill_command_before = 'bash root/ai_example/kill.sh display'\n",
    "subprocess.call((kill_command_before.split('\\n')), shell=True)"
   ]
  },
  {
   "cell_type": "code",
   "execution_count": null,
   "id": "edbfac12-b0d4-48c4-936a-fc0a776e4dfb",
   "metadata": {},
   "outputs": [],
   "source": [
    "# 객체 검출하기\n",
    "detect_command_orange = 'bash root/ai_example/detect.sh orange_googlenet'\n",
    "subprocess.call((detect_command_orange.split('\\n')), shell=True)"
   ]
  },
  {
   "cell_type": "code",
   "execution_count": null,
   "id": "effc48b4-e61f-42a0-a5f6-f457b855e085",
   "metadata": {},
   "outputs": [],
   "source": [
    "# 검출 이미지 확인하기\n",
    "run_command_after = 'bash root/ai_example/show.sh orange after googlenet'\n",
    "subprocess.call((run_command_after.split('\\n')), shell=True)"
   ]
  },
  {
   "cell_type": "code",
   "execution_count": null,
   "id": "02f28153-879e-4bd2-9b34-6702e424004c",
   "metadata": {},
   "outputs": [],
   "source": [
    "# 프로세스 종료하기\n",
    "kill_command_after = 'bash root/ai_example/kill.sh display'\n",
    "subprocess.call((kill_command_after.split('\\n')), shell=True)"
   ]
  },
  {
   "cell_type": "code",
   "execution_count": null,
   "id": "e83d0722-3e7e-444f-bc42-6e06b06b4c8e",
   "metadata": {},
   "outputs": [],
   "source": [
    "!top"
   ]
  },
  {
   "cell_type": "code",
   "execution_count": null,
   "id": "4d5a1610-abca-4354-95c5-1e97fe42f95e",
   "metadata": {},
   "outputs": [],
   "source": []
  }
 ],
 "metadata": {
  "kernelspec": {
   "display_name": "Python 3",
   "language": "python",
   "name": "python3"
  },
  "language_info": {
   "codemirror_mode": {
    "name": "ipython",
    "version": 3
   },
   "file_extension": ".py",
   "mimetype": "text/x-python",
   "name": "python",
   "nbconvert_exporter": "python",
   "pygments_lexer": "ipython3",
   "version": "3.6.9"
  }
 },
 "nbformat": 4,
 "nbformat_minor": 5
}
