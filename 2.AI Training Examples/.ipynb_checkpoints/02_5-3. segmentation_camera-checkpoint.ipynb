{
 "cells": [
  {
   "cell_type": "markdown",
   "id": "dc0443a8-3ef4-4d58-9686-5bf62cfbb1f3",
   "metadata": {},
   "source": [
    "### Initialize jupyter environment variables"
   ]
  },
  {
   "cell_type": "code",
   "execution_count": null,
   "id": "e288f5bf-1cc3-46a9-9f37-f519305b243c",
   "metadata": {},
   "outputs": [],
   "source": [
    "%env DISPLAY=:0\n",
    "%env csi=:0\n",
    "%env CAMERA=csi://0"
   ]
  },
  {
   "cell_type": "markdown",
   "id": "f6e6afd9-7a56-45f0-8e2e-4dcb0692c478",
   "metadata": {},
   "source": [
    "### Bring in the team mission python code and see if it is correct"
   ]
  },
  {
   "cell_type": "code",
   "execution_count": null,
   "id": "c9410c0e-81d8-4905-b7b7-2653b9658ef8",
   "metadata": {},
   "outputs": [],
   "source": [
    "cat /root/notebook/lecture/'2.AI Training Examples'/'02_5-2. segmentation_camera.py'"
   ]
  },
  {
   "cell_type": "markdown",
   "id": "222087bb-dffe-4e45-87dc-9b3e8b990540",
   "metadata": {},
   "source": [
    "### Execute the cell below to run your code"
   ]
  },
  {
   "cell_type": "code",
   "execution_count": null,
   "id": "4fc2c456-e77b-45ae-abc0-91e31c2fe45b",
   "metadata": {},
   "outputs": [],
   "source": [
    "%%capture\n",
    "!pm2 stop jetson_camera"
   ]
  },
  {
   "cell_type": "code",
   "execution_count": null,
   "id": "c7fe6f64-91e5-410f-a0d7-4c3e650f6bbe",
   "metadata": {
    "tags": []
   },
   "outputs": [],
   "source": [
    "%%capture\n",
    "!python3 /root/notebook/lecture1/'2.AI Training Examples'/'02_5-2. segmentation_camera.py' --network=fcn-resnet18-sun $CAMERA"
   ]
  },
  {
   "cell_type": "code",
   "execution_count": null,
   "id": "02590248-5a9b-4221-9715-59918a35293d",
   "metadata": {},
   "outputs": [],
   "source": [
    "%%capture\n",
    "!pm2 start jetson_camera"
   ]
  },
  {
   "cell_type": "code",
   "execution_count": null,
   "id": "003ba914-6a6b-4871-b494-d82e467bce3d",
   "metadata": {},
   "outputs": [],
   "source": []
  }
 ],
 "metadata": {
  "kernelspec": {
   "display_name": "Python 3",
   "language": "python",
   "name": "python3"
  },
  "language_info": {
   "codemirror_mode": {
    "name": "ipython",
    "version": 3
   },
   "file_extension": ".py",
   "mimetype": "text/x-python",
   "name": "python",
   "nbconvert_exporter": "python",
   "pygments_lexer": "ipython3",
   "version": "3.6.9"
  }
 },
 "nbformat": 4,
 "nbformat_minor": 5
}
