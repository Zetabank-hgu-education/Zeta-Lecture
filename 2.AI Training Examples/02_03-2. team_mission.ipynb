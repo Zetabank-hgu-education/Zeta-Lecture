{
 "cells": [
  {
   "cell_type": "markdown",
   "id": "4978c482-f403-45e0-9e12-273805a9d707",
   "metadata": {},
   "source": [
    "### Bring in the team mission python code and see if it is correct"
   ]
  },
  {
   "cell_type": "code",
   "execution_count": null,
   "id": "592345d7",
   "metadata": {},
   "outputs": [],
   "source": [
    "%env DISPLAY=:0\n",
    "%env csi=:0\n",
    "%env CAMERA=csi://0\n",
    "%env PROGRAM_PATH=/root/jetson-inference/build/aarch64/bin"
   ]
  },
  {
   "cell_type": "code",
   "execution_count": null,
   "id": "e3423499-2c7e-4e29-b85e-82b672a8d684",
   "metadata": {},
   "outputs": [],
   "source": [
    "!cat $HOME/lecture/'2.AI Training Examples'/'02_03-1. team_mission.py'"
   ]
  },
  {
   "cell_type": "markdown",
   "id": "ceaa1757-167f-4e09-ac44-7f8b7943585e",
   "metadata": {},
   "source": [
    "### Execute the cell below to run your code"
   ]
  },
  {
   "cell_type": "code",
   "execution_count": null,
   "id": "3e25b2a7-0a9e-4b68-b8c7-cb7855ccbd4d",
   "metadata": {
    "tags": []
   },
   "outputs": [],
   "source": [
    "# Comment this cell if you wish to see the program output\n",
    "!python3 $HOME/lecture/'2.AI Training Examples'/'02_03-1. team_mission.py'"
   ]
  },
  {
   "cell_type": "code",
   "execution_count": null,
   "id": "01be35d0-6fc8-43c8-949f-39ed371df1d1",
   "metadata": {},
   "outputs": [],
   "source": []
  }
 ],
 "metadata": {
  "kernelspec": {
   "display_name": "Python 3",
   "language": "python",
   "name": "python3"
  },
  "language_info": {
   "codemirror_mode": {
    "name": "ipython",
    "version": 3
   },
   "file_extension": ".py",
   "mimetype": "text/x-python",
   "name": "python",
   "nbconvert_exporter": "python",
   "pygments_lexer": "ipython3",
   "version": "3.6.9"
  }
 },
 "nbformat": 4,
 "nbformat_minor": 5
}
