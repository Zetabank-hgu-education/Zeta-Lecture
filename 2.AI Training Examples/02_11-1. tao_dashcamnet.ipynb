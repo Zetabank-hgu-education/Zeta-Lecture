{
 "cells": [
  {
   "cell_type": "markdown",
   "metadata": {},
   "source": [
    "### Initialize your output stream, and your paths"
   ]
  },
  {
   "cell_type": "code",
   "execution_count": null,
   "metadata": {},
   "outputs": [],
   "source": [
    "from IPython.display import Image\n",
    "\n",
    "%env DISPLAY=:0\n",
    "%env PROGRAM_PATH=/jetson-inference/build/aarch64/bin\n",
    "%env INPUT_PATH=/jetson-inference/build/aarch64/bin/images\n",
    "%env OUTPUT_PATH=/jetson-inference/build/aarch64/bin/images/test\n",
    "\n",
    "input_path='/jetson-inference/build/aarch64/bin/images'\n",
    "output_path='/jetson-inference/build/aarch64/bin/images/test'"
   ]
  },
  {
   "attachments": {},
   "cell_type": "markdown",
   "metadata": {},
   "source": [
    "### See all the available pictures of road"
   ]
  },
  {
   "cell_type": "code",
   "execution_count": null,
   "metadata": {},
   "outputs": [],
   "source": [
    "!ls $INPUT_PATH/road_*"
   ]
  },
  {
   "cell_type": "markdown",
   "metadata": {},
   "source": [
    "### Pick one of the names and initialize the image_name"
   ]
  },
  {
   "cell_type": "code",
   "execution_count": null,
   "metadata": {},
   "outputs": [],
   "source": [
    "image_name = 'road_0.jpg'\n",
    "output_name = 'road_result.jpg'\n",
    "%env IMAGE_NAME = $image_name\n",
    "%env OUTPUT_NAME = $output_name\n",
    "\n",
    "Image(filename=input_path+'/'+image_name) "
   ]
  },
  {
   "cell_type": "markdown",
   "metadata": {},
   "source": [
    "### Run the Code"
   ]
  },
  {
   "cell_type": "code",
   "execution_count": null,
   "metadata": {},
   "outputs": [],
   "source": [
    "!python3 $PROGRAM_PATH/detectnet.py --network=dashcamnet $INPUT_PATH/$IMAGE_NAME $OUTPUT_PATH/$OUTPUT_NAME"
   ]
  },
  {
   "cell_type": "markdown",
   "metadata": {},
   "source": [
    "### Output the image"
   ]
  },
  {
   "cell_type": "code",
   "execution_count": null,
   "metadata": {},
   "outputs": [],
   "source": [
    "Image(filename=output_path+'/road_result.jpg') "
   ]
  },
  {
   "cell_type": "code",
   "execution_count": null,
   "metadata": {},
   "outputs": [],
   "source": []
  }
 ],
 "metadata": {
  "language_info": {
   "name": "python"
  },
  "orig_nbformat": 4
 },
 "nbformat": 4,
 "nbformat_minor": 2
}
