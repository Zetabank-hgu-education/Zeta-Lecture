{
 "cells": [
  {
   "cell_type": "code",
   "execution_count": null,
   "id": "0ad6b42b-868a-46d7-9d79-87d58a541cc8",
   "metadata": {},
   "outputs": [],
   "source": [
    "from IPython.display import Image"
   ]
  },
  {
   "cell_type": "code",
   "execution_count": null,
   "id": "bf025d90-f44b-407a-87e2-0d6734c505d6",
   "metadata": {},
   "outputs": [],
   "source": [
    "# Evnironment set up\n",
    "%env PROGRAM_PATH=/jetson-inference/build/aarch64/bin\n",
    "%env INPUT_PATH=/jetson-inference/build/aarch64/bin/images\n",
    "%env OUTPUT_PATH=/jetson-inference/build/aarch64/bin/images/test/result_1.jpg\n",
    "\n",
    "# Python variables\n",
    "program_path = '/jetson-inference/build/aarch64/bin/'\n",
    "input_path = '/jetson-inference/build/aarch64/bin/images/'\n",
    "output_path = '/jetson-inference/build/aarch64/bin/images/test/result_1.jpg'"
   ]
  },
  {
   "cell_type": "code",
   "execution_count": null,
   "id": "8b766cf7-4536-4b80-bf2d-8d895479ef9a",
   "metadata": {
    "tags": []
   },
   "outputs": [],
   "source": [
    "!ls $INPUT_PATH | grep \\.jpg$ "
   ]
  },
  {
   "cell_type": "code",
   "execution_count": null,
   "id": "46f62d90-3ea0-4343-b261-383a05e0e80f",
   "metadata": {},
   "outputs": [],
   "source": [
    "# Enter the image file name in image_name variable\n",
    "image_name = 'room_8.jpg' #example: orange_0.jpg\n",
    "%env IMG_NAME = $image_name"
   ]
  },
  {
   "cell_type": "code",
   "execution_count": null,
   "id": "1a24a74e-ef98-44d8-bf68-af73b7eef02c",
   "metadata": {},
   "outputs": [],
   "source": [
    "Image(filename=input_path+image_name) "
   ]
  },
  {
   "cell_type": "code",
   "execution_count": null,
   "id": "cb0cce8e-00fe-4dc8-9bcc-ef19bf011efb",
   "metadata": {
    "tags": []
   },
   "outputs": [],
   "source": [
    "!python3 $PROGRAM_PATH/imagenet.py --network=alexnet $INPUT_PATH/$IMG_NAME $OUTPUT_PATH"
   ]
  },
  {
   "cell_type": "code",
   "execution_count": null,
   "id": "5098df28-4ee4-4080-a000-7b9550b1e300",
   "metadata": {},
   "outputs": [],
   "source": [
    "Image(filename=output_path) "
   ]
  },
  {
   "cell_type": "code",
   "execution_count": null,
   "id": "33b4afd4-0fab-493c-88f3-735756b9416b",
   "metadata": {},
   "outputs": [],
   "source": []
  }
 ],
 "metadata": {
  "kernelspec": {
   "display_name": "Python 3",
   "language": "python",
   "name": "python3"
  },
  "language_info": {
   "codemirror_mode": {
    "name": "ipython",
    "version": 3
   },
   "file_extension": ".py",
   "mimetype": "text/x-python",
   "name": "python",
   "nbconvert_exporter": "python",
   "pygments_lexer": "ipython3",
   "version": "3.6.9"
  }
 },
 "nbformat": 4,
 "nbformat_minor": 5
}
