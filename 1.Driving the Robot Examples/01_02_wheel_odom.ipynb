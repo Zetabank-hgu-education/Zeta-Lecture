{
 "cells": [
  {
   "cell_type": "code",
   "execution_count": null,
   "metadata": {},
   "outputs": [],
   "source": [
    "import rospy\n",
    "import json\n",
    "from std_msgs.msg import UInt8MultiArray, String\n",
    "from nav_msgs.msg import Odometry\n",
    "import time\n",
    "import math\n",
    "import threading"
   ]
  },
  {
   "cell_type": "code",
   "execution_count": null,
   "metadata": {},
   "outputs": [],
   "source": [
    "rospy.init_node('zetabot')\n",
    "move_pub = rospy.Publisher('/robot_command', String, queue_size=1)"
   ]
  },
  {
   "cell_type": "code",
   "execution_count": null,
   "metadata": {},
   "outputs": [],
   "source": [
    "is_robot_move = False"
   ]
  },
  {
   "cell_type": "code",
   "execution_count": null,
   "metadata": {},
   "outputs": [],
   "source": [
    "def moveTo():\n",
    "    tmp = {\"MoveDelta\": -0.5}\n",
    "    msg = json.dumps(tmp)\n",
    "    rospy.loginfo(\"Sent: %s\", msg)\n",
    "    move_pub.publish(msg)"
   ]
  },
  {
   "cell_type": "code",
   "execution_count": null,
   "metadata": {},
   "outputs": [],
   "source": [
    "def process_odom(data):\n",
    "    if is_robot_move == True:\n",
    "        x = data.pose.pose.position.x\n",
    "        y = data.pose.pose.position.y\n",
    "        z = data.pose.pose.orientation.z\n",
    "        w = data.pose.pose.orientation.w\n",
    "        print(\"current_odom\\nx: {}\\ny: {}\\nz: {}\\nw: {}\\n\".format(x,y,z,w))\n",
    "        rospy.sleep(0.5)"
   ]
  },
  {
   "cell_type": "code",
   "execution_count": null,
   "metadata": {},
   "outputs": [],
   "source": [
    "def process_serial_input(data):\n",
    "    global is_robot_move\n",
    "    if len(data.data) != 0:\n",
    "        is_robot_move = True\n",
    "        rospy.sleep(0.1)\n",
    "        is_robot_move = False"
   ]
  },
  {
   "cell_type": "code",
   "execution_count": null,
   "metadata": {},
   "outputs": [],
   "source": [
    "def subs():\n",
    "    rospy.Subscriber(\"motor_driver_serial_input\", UInt8MultiArray, process_serial_input, queue_size=1)\n",
    "    rospy.Subscriber(\"/odometry/filtered\", Odometry, process_odom, queue_size=1)\n",
    "    rospy.spin()"
   ]
  },
  {
   "cell_type": "code",
   "execution_count": null,
   "metadata": {},
   "outputs": [],
   "source": [
    "x = threading.Thread(target=subs)\n",
    "x.start()"
   ]
  },
  {
   "cell_type": "code",
   "execution_count": null,
   "metadata": {},
   "outputs": [],
   "source": [
    "moveTo()"
   ]
  },
  {
   "cell_type": "code",
   "execution_count": null,
   "metadata": {},
   "outputs": [],
   "source": []
  }
 ],
 "metadata": {
  "kernelspec": {
   "display_name": "Python 2",
   "language": "python",
   "name": "python2"
  },
  "language_info": {
   "codemirror_mode": {
    "name": "ipython",
    "version": 2
   },
   "file_extension": ".py",
   "mimetype": "text/x-python",
   "name": "python",
   "nbconvert_exporter": "python",
   "pygments_lexer": "ipython2",
   "version": "2.7.17"
  }
 },
 "nbformat": 4,
 "nbformat_minor": 4
}
