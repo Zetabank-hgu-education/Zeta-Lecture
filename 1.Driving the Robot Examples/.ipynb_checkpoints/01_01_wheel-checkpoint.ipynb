{
 "cells": [
  {
   "cell_type": "code",
   "execution_count": null,
   "metadata": {},
   "outputs": [],
   "source": [
    "import rospy\n",
    "import json\n",
    "from std_msgs.msg import String\n",
    "import time\n",
    "import math"
   ]
  },
  {
   "cell_type": "code",
   "execution_count": null,
   "metadata": {},
   "outputs": [],
   "source": [
    "pub = rospy.Publisher('/robot_command', String, queue_size=1)\n",
    "rospy.init_node('zetabot', anonymous=True)\n",
    "time.sleep(1)"
   ]
  },
  {
   "cell_type": "code",
   "execution_count": null,
   "metadata": {},
   "outputs": [],
   "source": [
    "def move():\n",
    "    tmp = {\"MoveForward\": 1}\n",
    "    msg = json.dumps(tmp)\n",
    "    rospy.loginfo(\"Sent: %s\", msg)\n",
    "    pub.publish(msg)"
   ]
  },
  {
   "cell_type": "code",
   "execution_count": null,
   "metadata": {},
   "outputs": [],
   "source": [
    "def stop():\n",
    "    tmp = {\"Stop\": 0}\n",
    "    msg = json.dumps(tmp)\n",
    "    rospy.loginfo(\"Sent: %s\", msg)\n",
    "    pub.publish(msg)"
   ]
  },
  {
   "cell_type": "code",
   "execution_count": null,
   "metadata": {},
   "outputs": [],
   "source": [
    "def moveTo():\n",
    "    tmp = {\"MoveDelta\": -0.5}\n",
    "    msg = json.dumps(tmp)\n",
    "    rospy.loginfo(\"Sent: %s\", msg)\n",
    "    pub.publish(msg)"
   ]
  },
  {
   "cell_type": "code",
   "execution_count": null,
   "metadata": {},
   "outputs": [],
   "source": [
    "moveTo() # Move backwards for 0.5 meters"
   ]
  },
  {
   "cell_type": "code",
   "execution_count": null,
   "metadata": {},
   "outputs": [],
   "source": [
    "def moveTo(distance): # add parameter so that the distance and directional information may be given. \n",
    "    tmp = {\"MoveDelta\": distance}\n",
    "    msg = json.dumps(tmp)\n",
    "    rospy.loginfo(\"Sent: %s\", msg)\n",
    "    pub.publish(msg)"
   ]
  },
  {
   "cell_type": "code",
   "execution_count": null,
   "metadata": {},
   "outputs": [],
   "source": [
    "def turnTo(): \n",
    "    tmp = {\"TurnDelta\": math.radians(90)}\n",
    "    msg = json.dumps(tmp)\n",
    "    rospy.loginfo(\"Sent: %s\", msg)\n",
    "    pub.publish(msg)"
   ]
  },
  {
   "cell_type": "code",
   "execution_count": null,
   "metadata": {},
   "outputs": [],
   "source": [
    "turnTo() # Turn for 45 degrees"
   ]
  },
  {
   "cell_type": "code",
   "execution_count": null,
   "metadata": {},
   "outputs": [],
   "source": [
    "def turnTo(degree): # add parameter so that the angle information may be given. \n",
    "    tmp = {\"TurnDelta\": math.radians(int(degree))}\n",
    "    msg = json.dumps(tmp)\n",
    "    rospy.loginfo(\"Sent: %s\", msg)\n",
    "    pub.publish(msg)"
   ]
  },
  {
   "cell_type": "code",
   "execution_count": null,
   "metadata": {},
   "outputs": [],
   "source": [
    "# Move forward for 2 seconds.\n",
    "move()\n",
    "time.sleep(1)\n",
    "stop()"
   ]
  },
  {
   "cell_type": "code",
   "execution_count": null,
   "metadata": {},
   "outputs": [],
   "source": [
    "moveTo(1) "
   ]
  },
  {
   "cell_type": "code",
   "execution_count": null,
   "metadata": {},
   "outputs": [],
   "source": [
    "turnTo(-180)"
   ]
  },
  {
   "cell_type": "code",
   "execution_count": null,
   "metadata": {},
   "outputs": [],
   "source": [
    "turnTo(90)"
   ]
  },
  {
   "cell_type": "code",
   "execution_count": null,
   "metadata": {},
   "outputs": [],
   "source": [
    "stop()"
   ]
  },
  {
   "cell_type": "code",
   "execution_count": null,
   "metadata": {},
   "outputs": [],
   "source": []
  }
 ],
 "metadata": {
  "kernelspec": {
   "display_name": "Python 2",
   "language": "python",
   "name": "python2"
  },
  "language_info": {
   "codemirror_mode": {
    "name": "ipython",
    "version": 2
   },
   "file_extension": ".py",
   "mimetype": "text/x-python",
   "name": "python",
   "nbconvert_exporter": "python",
   "pygments_lexer": "ipython2",
   "version": "2.7.17"
  }
 },
 "nbformat": 4,
 "nbformat_minor": 4
}
