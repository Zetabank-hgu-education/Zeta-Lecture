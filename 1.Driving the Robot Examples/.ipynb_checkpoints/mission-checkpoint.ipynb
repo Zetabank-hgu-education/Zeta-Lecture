{
 "cells": [
  {
   "cell_type": "code",
   "execution_count": 1,
   "id": "6850ac27-f676-4d8f-88f2-f2406fea5e2a",
   "metadata": {},
   "outputs": [],
   "source": [
    "import rospy\n",
    "import json\n",
    "from std_msgs.msg import UInt8MultiArray, String\n",
    "from nav_msgs.msg import Odometry\n",
    "import time\n",
    "import math\n",
    "import threading"
   ]
  },
  {
   "cell_type": "code",
   "execution_count": 2,
   "id": "532e0333-ed30-4f3f-aa4e-cb1f0f62e123",
   "metadata": {},
   "outputs": [],
   "source": [
    "rospy.init_node('zetabot')\n",
    "move_pub = rospy.Publisher('/robot_command', String, queue_size=1)"
   ]
  },
  {
   "cell_type": "code",
   "execution_count": 3,
   "id": "af6631ef-63c3-4c88-9707-cd522169a942",
   "metadata": {},
   "outputs": [],
   "source": [
    "def move():\n",
    "    tmp = {\"MoveForward\": 1}\n",
    "    msg = json.dumps(tmp)\n",
    "    rospy.loginfo(\"Sent: %s\", msg)\n",
    "    move_pub.publish(msg)"
   ]
  },
  {
   "cell_type": "code",
   "execution_count": null,
   "id": "c8aaf0d1-0d53-4f05-bf02-fef4c5c9389c",
   "metadata": {},
   "outputs": [],
   "source": [
    "def back():\n",
    "    tmp = {\"MoveBackward\": 1}\n",
    "    msg = json.dumps(tmp)\n",
    "    rospy.loginfo(\"Sent: %s\", msg)\n",
    "    move_pub.publish(msg)"
   ]
  },
  {
   "cell_type": "code",
   "execution_count": 12,
   "id": "dc080db8-622f-4ba8-885d-487392dd9437",
   "metadata": {},
   "outputs": [],
   "source": [
    "def stop():\n",
    "    tmp = {\"Stop\": 0}\n",
    "    msg = json.dumps(tmp)\n",
    "    rospy.loginfo(\"Sent: %s\", msg)\n",
    "    move_pub.publish(msg)"
   ]
  },
  {
   "cell_type": "code",
   "execution_count": 5,
   "id": "07b12b49-51b3-4aea-b3d1-1d63fe5cd783",
   "metadata": {},
   "outputs": [],
   "source": [
    "def moving_sequence():\n",
    "    move()\n",
    "    time.sleep(1)\n",
    "    stop()\n",
    "    back()\n",
    "    time.sleep(1)\n",
    "    stop()"
   ]
  }
 ],
 "metadata": {
  "kernelspec": {
   "display_name": "Python 2",
   "language": "python",
   "name": "python2"
  },
  "language_info": {
   "codemirror_mode": {
    "name": "ipython",
    "version": 2
   },
   "file_extension": ".py",
   "mimetype": "text/x-python",
   "name": "python",
   "nbconvert_exporter": "python",
   "pygments_lexer": "ipython2",
   "version": "2.7.17"
  }
 },
 "nbformat": 4,
 "nbformat_minor": 5
}
